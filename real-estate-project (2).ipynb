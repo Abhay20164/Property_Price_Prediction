{
 "cells": [
  {
   "cell_type": "code",
   "execution_count": 1,
   "id": "6588954f",
   "metadata": {
    "_cell_guid": "b1076dfc-b9ad-4769-8c92-a6c4dae69d19",
    "_uuid": "8f2839f25d086af736a60e9eeb907d3b93b6e0e5",
    "execution": {
     "iopub.execute_input": "2023-12-23T06:56:58.537866Z",
     "iopub.status.busy": "2023-12-23T06:56:58.536706Z",
     "iopub.status.idle": "2023-12-23T06:56:58.984926Z",
     "shell.execute_reply": "2023-12-23T06:56:58.983690Z"
    },
    "papermill": {
     "duration": 0.47914,
     "end_time": "2023-12-23T06:56:58.987605",
     "exception": false,
     "start_time": "2023-12-23T06:56:58.508465",
     "status": "completed"
    },
    "tags": []
   },
   "outputs": [
    {
     "name": "stdout",
     "output_type": "stream",
     "text": [
      "/kaggle/input/bengaluru-house-price-data/Bengaluru_House_Data.csv\n"
     ]
    }
   ],
   "source": [
    "# This Python 3 environment comes with many helpful analytics libraries installed\n",
    "# It is defined by the kaggle/python Docker image: https://github.com/kaggle/docker-python\n",
    "# For example, here's several helpful packages to load\n",
    "\n",
    "import numpy as np # linear algebra\n",
    "import pandas as pd # data processing, CSV file I/O (e.g. pd.read_csv)\n",
    "\n",
    "# Input data files are available in the read-only \"../input/\" directory\n",
    "# For example, running this (by clicking run or pressing Shift+Enter) will list all files under the input directory\n",
    "\n",
    "import os\n",
    "for dirname, _, filenames in os.walk('/kaggle/input'):\n",
    "    for filename in filenames:\n",
    "        print(os.path.join(dirname, filename))\n",
    "\n",
    "# You can write up to 20GB to the current directory (/kaggle/working/) that gets preserved as output when you create a version using \"Save & Run All\" \n",
    "# You can also write temporary files to /kaggle/temp/, but they won't be saved outside of the current session"
   ]
  },
  {
   "cell_type": "code",
   "execution_count": 2,
   "id": "9152e786",
   "metadata": {
    "execution": {
     "iopub.execute_input": "2023-12-23T06:56:59.041045Z",
     "iopub.status.busy": "2023-12-23T06:56:59.040408Z",
     "iopub.status.idle": "2023-12-23T06:56:59.045877Z",
     "shell.execute_reply": "2023-12-23T06:56:59.044671Z"
    },
    "papermill": {
     "duration": 0.035114,
     "end_time": "2023-12-23T06:56:59.048413",
     "exception": false,
     "start_time": "2023-12-23T06:56:59.013299",
     "status": "completed"
    },
    "tags": []
   },
   "outputs": [],
   "source": [
    "import pandas as pd\n",
    "import numpy as np\n",
    "import matplotlib.pyplot as plt\n",
    "import pandas as pd\n",
    "import matplotlib \n"
   ]
  },
  {
   "cell_type": "code",
   "execution_count": 3,
   "id": "818de49b",
   "metadata": {
    "execution": {
     "iopub.execute_input": "2023-12-23T06:56:59.102999Z",
     "iopub.status.busy": "2023-12-23T06:56:59.102564Z",
     "iopub.status.idle": "2023-12-23T06:56:59.160824Z",
     "shell.execute_reply": "2023-12-23T06:56:59.159305Z"
    },
    "papermill": {
     "duration": 0.087778,
     "end_time": "2023-12-23T06:56:59.163617",
     "exception": false,
     "start_time": "2023-12-23T06:56:59.075839",
     "status": "completed"
    },
    "tags": []
   },
   "outputs": [],
   "source": [
    "df1=pd.read_csv(\"/kaggle/input/bengaluru-house-price-data/Bengaluru_House_Data.csv\")"
   ]
  },
  {
   "cell_type": "code",
   "execution_count": 4,
   "id": "036f80e6",
   "metadata": {
    "execution": {
     "iopub.execute_input": "2023-12-23T06:56:59.216312Z",
     "iopub.status.busy": "2023-12-23T06:56:59.215904Z",
     "iopub.status.idle": "2023-12-23T06:56:59.243816Z",
     "shell.execute_reply": "2023-12-23T06:56:59.242684Z"
    },
    "papermill": {
     "duration": 0.057226,
     "end_time": "2023-12-23T06:56:59.246446",
     "exception": false,
     "start_time": "2023-12-23T06:56:59.189220",
     "status": "completed"
    },
    "tags": []
   },
   "outputs": [
    {
     "data": {
      "text/html": [
       "<div>\n",
       "<style scoped>\n",
       "    .dataframe tbody tr th:only-of-type {\n",
       "        vertical-align: middle;\n",
       "    }\n",
       "\n",
       "    .dataframe tbody tr th {\n",
       "        vertical-align: top;\n",
       "    }\n",
       "\n",
       "    .dataframe thead th {\n",
       "        text-align: right;\n",
       "    }\n",
       "</style>\n",
       "<table border=\"1\" class=\"dataframe\">\n",
       "  <thead>\n",
       "    <tr style=\"text-align: right;\">\n",
       "      <th></th>\n",
       "      <th>area_type</th>\n",
       "      <th>availability</th>\n",
       "      <th>location</th>\n",
       "      <th>size</th>\n",
       "      <th>society</th>\n",
       "      <th>total_sqft</th>\n",
       "      <th>bath</th>\n",
       "      <th>balcony</th>\n",
       "      <th>price</th>\n",
       "    </tr>\n",
       "  </thead>\n",
       "  <tbody>\n",
       "    <tr>\n",
       "      <th>0</th>\n",
       "      <td>Super built-up  Area</td>\n",
       "      <td>19-Dec</td>\n",
       "      <td>Electronic City Phase II</td>\n",
       "      <td>2 BHK</td>\n",
       "      <td>Coomee</td>\n",
       "      <td>1056</td>\n",
       "      <td>2.0</td>\n",
       "      <td>1.0</td>\n",
       "      <td>39.07</td>\n",
       "    </tr>\n",
       "    <tr>\n",
       "      <th>1</th>\n",
       "      <td>Plot  Area</td>\n",
       "      <td>Ready To Move</td>\n",
       "      <td>Chikka Tirupathi</td>\n",
       "      <td>4 Bedroom</td>\n",
       "      <td>Theanmp</td>\n",
       "      <td>2600</td>\n",
       "      <td>5.0</td>\n",
       "      <td>3.0</td>\n",
       "      <td>120.00</td>\n",
       "    </tr>\n",
       "    <tr>\n",
       "      <th>2</th>\n",
       "      <td>Built-up  Area</td>\n",
       "      <td>Ready To Move</td>\n",
       "      <td>Uttarahalli</td>\n",
       "      <td>3 BHK</td>\n",
       "      <td>NaN</td>\n",
       "      <td>1440</td>\n",
       "      <td>2.0</td>\n",
       "      <td>3.0</td>\n",
       "      <td>62.00</td>\n",
       "    </tr>\n",
       "    <tr>\n",
       "      <th>3</th>\n",
       "      <td>Super built-up  Area</td>\n",
       "      <td>Ready To Move</td>\n",
       "      <td>Lingadheeranahalli</td>\n",
       "      <td>3 BHK</td>\n",
       "      <td>Soiewre</td>\n",
       "      <td>1521</td>\n",
       "      <td>3.0</td>\n",
       "      <td>1.0</td>\n",
       "      <td>95.00</td>\n",
       "    </tr>\n",
       "    <tr>\n",
       "      <th>4</th>\n",
       "      <td>Super built-up  Area</td>\n",
       "      <td>Ready To Move</td>\n",
       "      <td>Kothanur</td>\n",
       "      <td>2 BHK</td>\n",
       "      <td>NaN</td>\n",
       "      <td>1200</td>\n",
       "      <td>2.0</td>\n",
       "      <td>1.0</td>\n",
       "      <td>51.00</td>\n",
       "    </tr>\n",
       "  </tbody>\n",
       "</table>\n",
       "</div>"
      ],
      "text/plain": [
       "              area_type   availability                  location       size  \\\n",
       "0  Super built-up  Area         19-Dec  Electronic City Phase II      2 BHK   \n",
       "1            Plot  Area  Ready To Move          Chikka Tirupathi  4 Bedroom   \n",
       "2        Built-up  Area  Ready To Move               Uttarahalli      3 BHK   \n",
       "3  Super built-up  Area  Ready To Move        Lingadheeranahalli      3 BHK   \n",
       "4  Super built-up  Area  Ready To Move                  Kothanur      2 BHK   \n",
       "\n",
       "   society total_sqft  bath  balcony   price  \n",
       "0  Coomee        1056   2.0      1.0   39.07  \n",
       "1  Theanmp       2600   5.0      3.0  120.00  \n",
       "2      NaN       1440   2.0      3.0   62.00  \n",
       "3  Soiewre       1521   3.0      1.0   95.00  \n",
       "4      NaN       1200   2.0      1.0   51.00  "
      ]
     },
     "execution_count": 4,
     "metadata": {},
     "output_type": "execute_result"
    }
   ],
   "source": [
    "df1.head()"
   ]
  },
  {
   "cell_type": "code",
   "execution_count": 5,
   "id": "1c2f4225",
   "metadata": {
    "execution": {
     "iopub.execute_input": "2023-12-23T06:56:59.300444Z",
     "iopub.status.busy": "2023-12-23T06:56:59.299994Z",
     "iopub.status.idle": "2023-12-23T06:56:59.306883Z",
     "shell.execute_reply": "2023-12-23T06:56:59.305696Z"
    },
    "papermill": {
     "duration": 0.036969,
     "end_time": "2023-12-23T06:56:59.309389",
     "exception": false,
     "start_time": "2023-12-23T06:56:59.272420",
     "status": "completed"
    },
    "tags": []
   },
   "outputs": [
    {
     "data": {
      "text/plain": [
       "(13320, 9)"
      ]
     },
     "execution_count": 5,
     "metadata": {},
     "output_type": "execute_result"
    }
   ],
   "source": [
    "df1.shape"
   ]
  },
  {
   "cell_type": "markdown",
   "id": "256d7796",
   "metadata": {
    "papermill": {
     "duration": 0.028373,
     "end_time": "2023-12-23T06:56:59.429540",
     "exception": false,
     "start_time": "2023-12-23T06:56:59.401167",
     "status": "completed"
    },
    "tags": []
   },
   "source": [
    "**Drop features that are not required to build our model**"
   ]
  },
  {
   "cell_type": "code",
   "execution_count": 6,
   "id": "cbe56665",
   "metadata": {
    "execution": {
     "iopub.execute_input": "2023-12-23T06:56:59.483653Z",
     "iopub.status.busy": "2023-12-23T06:56:59.483223Z",
     "iopub.status.idle": "2023-12-23T06:56:59.507304Z",
     "shell.execute_reply": "2023-12-23T06:56:59.506460Z"
    },
    "papermill": {
     "duration": 0.054256,
     "end_time": "2023-12-23T06:56:59.509658",
     "exception": false,
     "start_time": "2023-12-23T06:56:59.455402",
     "status": "completed"
    },
    "tags": []
   },
   "outputs": [
    {
     "data": {
      "text/html": [
       "<div>\n",
       "<style scoped>\n",
       "    .dataframe tbody tr th:only-of-type {\n",
       "        vertical-align: middle;\n",
       "    }\n",
       "\n",
       "    .dataframe tbody tr th {\n",
       "        vertical-align: top;\n",
       "    }\n",
       "\n",
       "    .dataframe thead th {\n",
       "        text-align: right;\n",
       "    }\n",
       "</style>\n",
       "<table border=\"1\" class=\"dataframe\">\n",
       "  <thead>\n",
       "    <tr style=\"text-align: right;\">\n",
       "      <th></th>\n",
       "      <th>area_type</th>\n",
       "      <th>location</th>\n",
       "      <th>size</th>\n",
       "      <th>total_sqft</th>\n",
       "      <th>bath</th>\n",
       "      <th>price</th>\n",
       "    </tr>\n",
       "  </thead>\n",
       "  <tbody>\n",
       "    <tr>\n",
       "      <th>0</th>\n",
       "      <td>Super built-up  Area</td>\n",
       "      <td>Electronic City Phase II</td>\n",
       "      <td>2 BHK</td>\n",
       "      <td>1056</td>\n",
       "      <td>2.0</td>\n",
       "      <td>39.07</td>\n",
       "    </tr>\n",
       "    <tr>\n",
       "      <th>1</th>\n",
       "      <td>Plot  Area</td>\n",
       "      <td>Chikka Tirupathi</td>\n",
       "      <td>4 Bedroom</td>\n",
       "      <td>2600</td>\n",
       "      <td>5.0</td>\n",
       "      <td>120.00</td>\n",
       "    </tr>\n",
       "    <tr>\n",
       "      <th>2</th>\n",
       "      <td>Built-up  Area</td>\n",
       "      <td>Uttarahalli</td>\n",
       "      <td>3 BHK</td>\n",
       "      <td>1440</td>\n",
       "      <td>2.0</td>\n",
       "      <td>62.00</td>\n",
       "    </tr>\n",
       "    <tr>\n",
       "      <th>3</th>\n",
       "      <td>Super built-up  Area</td>\n",
       "      <td>Lingadheeranahalli</td>\n",
       "      <td>3 BHK</td>\n",
       "      <td>1521</td>\n",
       "      <td>3.0</td>\n",
       "      <td>95.00</td>\n",
       "    </tr>\n",
       "    <tr>\n",
       "      <th>4</th>\n",
       "      <td>Super built-up  Area</td>\n",
       "      <td>Kothanur</td>\n",
       "      <td>2 BHK</td>\n",
       "      <td>1200</td>\n",
       "      <td>2.0</td>\n",
       "      <td>51.00</td>\n",
       "    </tr>\n",
       "  </tbody>\n",
       "</table>\n",
       "</div>"
      ],
      "text/plain": [
       "              area_type                  location       size total_sqft  bath  \\\n",
       "0  Super built-up  Area  Electronic City Phase II      2 BHK       1056   2.0   \n",
       "1            Plot  Area          Chikka Tirupathi  4 Bedroom       2600   5.0   \n",
       "2        Built-up  Area               Uttarahalli      3 BHK       1440   2.0   \n",
       "3  Super built-up  Area        Lingadheeranahalli      3 BHK       1521   3.0   \n",
       "4  Super built-up  Area                  Kothanur      2 BHK       1200   2.0   \n",
       "\n",
       "    price  \n",
       "0   39.07  \n",
       "1  120.00  \n",
       "2   62.00  \n",
       "3   95.00  \n",
       "4   51.00  "
      ]
     },
     "execution_count": 6,
     "metadata": {},
     "output_type": "execute_result"
    }
   ],
   "source": [
    "df2=df1.drop([\"availability\",\"society\",\"balcony\"],axis=\"columns\")\n",
    "df2.head()"
   ]
  },
  {
   "cell_type": "code",
   "execution_count": 7,
   "id": "be2f0ed5",
   "metadata": {
    "execution": {
     "iopub.execute_input": "2023-12-23T06:56:59.566781Z",
     "iopub.status.busy": "2023-12-23T06:56:59.565651Z",
     "iopub.status.idle": "2023-12-23T06:56:59.579580Z",
     "shell.execute_reply": "2023-12-23T06:56:59.578446Z"
    },
    "papermill": {
     "duration": 0.045642,
     "end_time": "2023-12-23T06:56:59.582342",
     "exception": false,
     "start_time": "2023-12-23T06:56:59.536700",
     "status": "completed"
    },
    "tags": []
   },
   "outputs": [
    {
     "data": {
      "text/plain": [
       "array(['Super built-up  Area', 'Plot  Area', 'Built-up  Area',\n",
       "       'Carpet  Area'], dtype=object)"
      ]
     },
     "execution_count": 7,
     "metadata": {},
     "output_type": "execute_result"
    }
   ],
   "source": [
    "df2.area_type.unique()"
   ]
  },
  {
   "cell_type": "code",
   "execution_count": 8,
   "id": "35a9e28b",
   "metadata": {
    "execution": {
     "iopub.execute_input": "2023-12-23T06:56:59.638004Z",
     "iopub.status.busy": "2023-12-23T06:56:59.637577Z",
     "iopub.status.idle": "2023-12-23T06:56:59.652809Z",
     "shell.execute_reply": "2023-12-23T06:56:59.651730Z"
    },
    "papermill": {
     "duration": 0.04566,
     "end_time": "2023-12-23T06:56:59.655200",
     "exception": false,
     "start_time": "2023-12-23T06:56:59.609540",
     "status": "completed"
    },
    "tags": []
   },
   "outputs": [
    {
     "data": {
      "text/plain": [
       "area_type      0\n",
       "location       1\n",
       "size          16\n",
       "total_sqft     0\n",
       "bath          73\n",
       "price          0\n",
       "dtype: int64"
      ]
     },
     "execution_count": 8,
     "metadata": {},
     "output_type": "execute_result"
    }
   ],
   "source": [
    "df2.isnull().sum()"
   ]
  },
  {
   "cell_type": "code",
   "execution_count": 9,
   "id": "f0d5acbe",
   "metadata": {
    "execution": {
     "iopub.execute_input": "2023-12-23T06:56:59.710353Z",
     "iopub.status.busy": "2023-12-23T06:56:59.709941Z",
     "iopub.status.idle": "2023-12-23T06:56:59.733515Z",
     "shell.execute_reply": "2023-12-23T06:56:59.732405Z"
    },
    "papermill": {
     "duration": 0.054272,
     "end_time": "2023-12-23T06:56:59.736137",
     "exception": false,
     "start_time": "2023-12-23T06:56:59.681865",
     "status": "completed"
    },
    "tags": []
   },
   "outputs": [
    {
     "data": {
      "text/plain": [
       "area_type     0\n",
       "location      0\n",
       "size          0\n",
       "total_sqft    0\n",
       "bath          0\n",
       "price         0\n",
       "dtype: int64"
      ]
     },
     "execution_count": 9,
     "metadata": {},
     "output_type": "execute_result"
    }
   ],
   "source": [
    "df3=df2.dropna()\n",
    "df3.isnull().sum()"
   ]
  },
  {
   "cell_type": "markdown",
   "id": "62332844",
   "metadata": {
    "papermill": {
     "duration": 0.026426,
     "end_time": "2023-12-23T06:56:59.789247",
     "exception": false,
     "start_time": "2023-12-23T06:56:59.762821",
     "status": "completed"
    },
    "tags": []
   },
   "source": [
    "FEATURE ENGINEERING"
   ]
  },
  {
   "cell_type": "markdown",
   "id": "f1773517",
   "metadata": {
    "papermill": {
     "duration": 0.026154,
     "end_time": "2023-12-23T06:56:59.842020",
     "exception": false,
     "start_time": "2023-12-23T06:56:59.815866",
     "status": "completed"
    },
    "tags": []
   },
   "source": [
    "ADDING NEW COLUMN FOR BHK IN INTEGER"
   ]
  },
  {
   "cell_type": "code",
   "execution_count": 10,
   "id": "87c35d93",
   "metadata": {
    "execution": {
     "iopub.execute_input": "2023-12-23T06:56:59.897210Z",
     "iopub.status.busy": "2023-12-23T06:56:59.896421Z",
     "iopub.status.idle": "2023-12-23T06:56:59.919616Z",
     "shell.execute_reply": "2023-12-23T06:56:59.918536Z"
    },
    "papermill": {
     "duration": 0.054068,
     "end_time": "2023-12-23T06:56:59.922429",
     "exception": false,
     "start_time": "2023-12-23T06:56:59.868361",
     "status": "completed"
    },
    "tags": []
   },
   "outputs": [
    {
     "name": "stderr",
     "output_type": "stream",
     "text": [
      "/tmp/ipykernel_19/986678422.py:1: SettingWithCopyWarning: \n",
      "A value is trying to be set on a copy of a slice from a DataFrame.\n",
      "Try using .loc[row_indexer,col_indexer] = value instead\n",
      "\n",
      "See the caveats in the documentation: https://pandas.pydata.org/pandas-docs/stable/user_guide/indexing.html#returning-a-view-versus-a-copy\n",
      "  df3[\"BHK\"]=df3[\"size\"].apply(lambda x: int(x.split(\" \")[0]))\n"
     ]
    }
   ],
   "source": [
    "df3[\"BHK\"]=df3[\"size\"].apply(lambda x: int(x.split(\" \")[0]))"
   ]
  },
  {
   "cell_type": "code",
   "execution_count": 11,
   "id": "20dbbda1",
   "metadata": {
    "execution": {
     "iopub.execute_input": "2023-12-23T06:56:59.978315Z",
     "iopub.status.busy": "2023-12-23T06:56:59.977665Z",
     "iopub.status.idle": "2023-12-23T06:56:59.993261Z",
     "shell.execute_reply": "2023-12-23T06:56:59.991797Z"
    },
    "papermill": {
     "duration": 0.046446,
     "end_time": "2023-12-23T06:56:59.995951",
     "exception": false,
     "start_time": "2023-12-23T06:56:59.949505",
     "status": "completed"
    },
    "tags": []
   },
   "outputs": [
    {
     "data": {
      "text/html": [
       "<div>\n",
       "<style scoped>\n",
       "    .dataframe tbody tr th:only-of-type {\n",
       "        vertical-align: middle;\n",
       "    }\n",
       "\n",
       "    .dataframe tbody tr th {\n",
       "        vertical-align: top;\n",
       "    }\n",
       "\n",
       "    .dataframe thead th {\n",
       "        text-align: right;\n",
       "    }\n",
       "</style>\n",
       "<table border=\"1\" class=\"dataframe\">\n",
       "  <thead>\n",
       "    <tr style=\"text-align: right;\">\n",
       "      <th></th>\n",
       "      <th>area_type</th>\n",
       "      <th>location</th>\n",
       "      <th>size</th>\n",
       "      <th>total_sqft</th>\n",
       "      <th>bath</th>\n",
       "      <th>price</th>\n",
       "      <th>BHK</th>\n",
       "    </tr>\n",
       "  </thead>\n",
       "  <tbody>\n",
       "    <tr>\n",
       "      <th>0</th>\n",
       "      <td>Super built-up  Area</td>\n",
       "      <td>Electronic City Phase II</td>\n",
       "      <td>2 BHK</td>\n",
       "      <td>1056</td>\n",
       "      <td>2.0</td>\n",
       "      <td>39.07</td>\n",
       "      <td>2</td>\n",
       "    </tr>\n",
       "    <tr>\n",
       "      <th>1</th>\n",
       "      <td>Plot  Area</td>\n",
       "      <td>Chikka Tirupathi</td>\n",
       "      <td>4 Bedroom</td>\n",
       "      <td>2600</td>\n",
       "      <td>5.0</td>\n",
       "      <td>120.00</td>\n",
       "      <td>4</td>\n",
       "    </tr>\n",
       "    <tr>\n",
       "      <th>2</th>\n",
       "      <td>Built-up  Area</td>\n",
       "      <td>Uttarahalli</td>\n",
       "      <td>3 BHK</td>\n",
       "      <td>1440</td>\n",
       "      <td>2.0</td>\n",
       "      <td>62.00</td>\n",
       "      <td>3</td>\n",
       "    </tr>\n",
       "    <tr>\n",
       "      <th>3</th>\n",
       "      <td>Super built-up  Area</td>\n",
       "      <td>Lingadheeranahalli</td>\n",
       "      <td>3 BHK</td>\n",
       "      <td>1521</td>\n",
       "      <td>3.0</td>\n",
       "      <td>95.00</td>\n",
       "      <td>3</td>\n",
       "    </tr>\n",
       "    <tr>\n",
       "      <th>4</th>\n",
       "      <td>Super built-up  Area</td>\n",
       "      <td>Kothanur</td>\n",
       "      <td>2 BHK</td>\n",
       "      <td>1200</td>\n",
       "      <td>2.0</td>\n",
       "      <td>51.00</td>\n",
       "      <td>2</td>\n",
       "    </tr>\n",
       "  </tbody>\n",
       "</table>\n",
       "</div>"
      ],
      "text/plain": [
       "              area_type                  location       size total_sqft  bath  \\\n",
       "0  Super built-up  Area  Electronic City Phase II      2 BHK       1056   2.0   \n",
       "1            Plot  Area          Chikka Tirupathi  4 Bedroom       2600   5.0   \n",
       "2        Built-up  Area               Uttarahalli      3 BHK       1440   2.0   \n",
       "3  Super built-up  Area        Lingadheeranahalli      3 BHK       1521   3.0   \n",
       "4  Super built-up  Area                  Kothanur      2 BHK       1200   2.0   \n",
       "\n",
       "    price  BHK  \n",
       "0   39.07    2  \n",
       "1  120.00    4  \n",
       "2   62.00    3  \n",
       "3   95.00    3  \n",
       "4   51.00    2  "
      ]
     },
     "execution_count": 11,
     "metadata": {},
     "output_type": "execute_result"
    }
   ],
   "source": [
    "df3.head()"
   ]
  },
  {
   "cell_type": "code",
   "execution_count": 12,
   "id": "9ab41393",
   "metadata": {
    "execution": {
     "iopub.execute_input": "2023-12-23T06:57:00.053693Z",
     "iopub.status.busy": "2023-12-23T06:57:00.053240Z",
     "iopub.status.idle": "2023-12-23T06:57:00.066131Z",
     "shell.execute_reply": "2023-12-23T06:57:00.065281Z"
    },
    "papermill": {
     "duration": 0.044627,
     "end_time": "2023-12-23T06:57:00.068375",
     "exception": false,
     "start_time": "2023-12-23T06:57:00.023748",
     "status": "completed"
    },
    "tags": []
   },
   "outputs": [
    {
     "data": {
      "text/plain": [
       "area_type     Super built-up  Area\n",
       "location                 Yelahanka\n",
       "total_sqft             2100 - 2850\n",
       "bath                           4.0\n",
       "price                        186.0\n",
       "BHK                              4\n",
       "Name: 30, dtype: object"
      ]
     },
     "execution_count": 12,
     "metadata": {},
     "output_type": "execute_result"
    }
   ],
   "source": [
    "df4=df3.drop([\"size\"],axis=\"columns\")\n",
    "df4.loc[30]"
   ]
  },
  {
   "cell_type": "markdown",
   "id": "017dea51",
   "metadata": {
    "papermill": {
     "duration": 0.027204,
     "end_time": "2023-12-23T06:57:00.123151",
     "exception": false,
     "start_time": "2023-12-23T06:57:00.095947",
     "status": "completed"
    },
    "tags": []
   },
   "source": [
    "since total_sqft contains some values in range like 2100-2850 so we take a average of it and replace that value"
   ]
  },
  {
   "cell_type": "code",
   "execution_count": 13,
   "id": "5f099008",
   "metadata": {
    "execution": {
     "iopub.execute_input": "2023-12-23T06:57:00.179858Z",
     "iopub.status.busy": "2023-12-23T06:57:00.179446Z",
     "iopub.status.idle": "2023-12-23T06:57:00.203076Z",
     "shell.execute_reply": "2023-12-23T06:57:00.202243Z"
    },
    "papermill": {
     "duration": 0.054795,
     "end_time": "2023-12-23T06:57:00.205317",
     "exception": false,
     "start_time": "2023-12-23T06:57:00.150522",
     "status": "completed"
    },
    "tags": []
   },
   "outputs": [
    {
     "data": {
      "text/html": [
       "<div>\n",
       "<style scoped>\n",
       "    .dataframe tbody tr th:only-of-type {\n",
       "        vertical-align: middle;\n",
       "    }\n",
       "\n",
       "    .dataframe tbody tr th {\n",
       "        vertical-align: top;\n",
       "    }\n",
       "\n",
       "    .dataframe thead th {\n",
       "        text-align: right;\n",
       "    }\n",
       "</style>\n",
       "<table border=\"1\" class=\"dataframe\">\n",
       "  <thead>\n",
       "    <tr style=\"text-align: right;\">\n",
       "      <th></th>\n",
       "      <th>area_type</th>\n",
       "      <th>location</th>\n",
       "      <th>total_sqft</th>\n",
       "      <th>bath</th>\n",
       "      <th>price</th>\n",
       "      <th>BHK</th>\n",
       "    </tr>\n",
       "  </thead>\n",
       "  <tbody>\n",
       "    <tr>\n",
       "      <th>0</th>\n",
       "      <td>Super built-up  Area</td>\n",
       "      <td>Electronic City Phase II</td>\n",
       "      <td>1056</td>\n",
       "      <td>2.0</td>\n",
       "      <td>39.07</td>\n",
       "      <td>2</td>\n",
       "    </tr>\n",
       "    <tr>\n",
       "      <th>1</th>\n",
       "      <td>Plot  Area</td>\n",
       "      <td>Chikka Tirupathi</td>\n",
       "      <td>2600</td>\n",
       "      <td>5.0</td>\n",
       "      <td>120.00</td>\n",
       "      <td>4</td>\n",
       "    </tr>\n",
       "    <tr>\n",
       "      <th>2</th>\n",
       "      <td>Built-up  Area</td>\n",
       "      <td>Uttarahalli</td>\n",
       "      <td>1440</td>\n",
       "      <td>2.0</td>\n",
       "      <td>62.00</td>\n",
       "      <td>3</td>\n",
       "    </tr>\n",
       "    <tr>\n",
       "      <th>3</th>\n",
       "      <td>Super built-up  Area</td>\n",
       "      <td>Lingadheeranahalli</td>\n",
       "      <td>1521</td>\n",
       "      <td>3.0</td>\n",
       "      <td>95.00</td>\n",
       "      <td>3</td>\n",
       "    </tr>\n",
       "    <tr>\n",
       "      <th>4</th>\n",
       "      <td>Super built-up  Area</td>\n",
       "      <td>Kothanur</td>\n",
       "      <td>1200</td>\n",
       "      <td>2.0</td>\n",
       "      <td>51.00</td>\n",
       "      <td>2</td>\n",
       "    </tr>\n",
       "  </tbody>\n",
       "</table>\n",
       "</div>"
      ],
      "text/plain": [
       "              area_type                  location total_sqft  bath   price  \\\n",
       "0  Super built-up  Area  Electronic City Phase II       1056   2.0   39.07   \n",
       "1            Plot  Area          Chikka Tirupathi       2600   5.0  120.00   \n",
       "2        Built-up  Area               Uttarahalli       1440   2.0   62.00   \n",
       "3  Super built-up  Area        Lingadheeranahalli       1521   3.0   95.00   \n",
       "4  Super built-up  Area                  Kothanur       1200   2.0   51.00   \n",
       "\n",
       "   BHK  \n",
       "0    2  \n",
       "1    4  \n",
       "2    3  \n",
       "3    3  \n",
       "4    2  "
      ]
     },
     "execution_count": 13,
     "metadata": {},
     "output_type": "execute_result"
    }
   ],
   "source": [
    "def is_float(x):\n",
    "    try:\n",
    "        float(x)\n",
    "    except:\n",
    "        return False\n",
    "    return True\n",
    "df4[df4[\"total_sqft\"].apply(is_float)].head()"
   ]
  },
  {
   "cell_type": "code",
   "execution_count": 14,
   "id": "b0234563",
   "metadata": {
    "execution": {
     "iopub.execute_input": "2023-12-23T06:57:00.263494Z",
     "iopub.status.busy": "2023-12-23T06:57:00.262701Z",
     "iopub.status.idle": "2023-12-23T06:57:00.284181Z",
     "shell.execute_reply": "2023-12-23T06:57:00.283340Z"
    },
    "papermill": {
     "duration": 0.053377,
     "end_time": "2023-12-23T06:57:00.286337",
     "exception": false,
     "start_time": "2023-12-23T06:57:00.232960",
     "status": "completed"
    },
    "tags": []
   },
   "outputs": [
    {
     "data": {
      "text/html": [
       "<div>\n",
       "<style scoped>\n",
       "    .dataframe tbody tr th:only-of-type {\n",
       "        vertical-align: middle;\n",
       "    }\n",
       "\n",
       "    .dataframe tbody tr th {\n",
       "        vertical-align: top;\n",
       "    }\n",
       "\n",
       "    .dataframe thead th {\n",
       "        text-align: right;\n",
       "    }\n",
       "</style>\n",
       "<table border=\"1\" class=\"dataframe\">\n",
       "  <thead>\n",
       "    <tr style=\"text-align: right;\">\n",
       "      <th></th>\n",
       "      <th>area_type</th>\n",
       "      <th>location</th>\n",
       "      <th>total_sqft</th>\n",
       "      <th>bath</th>\n",
       "      <th>price</th>\n",
       "      <th>BHK</th>\n",
       "    </tr>\n",
       "  </thead>\n",
       "  <tbody>\n",
       "    <tr>\n",
       "      <th>30</th>\n",
       "      <td>Super built-up  Area</td>\n",
       "      <td>Yelahanka</td>\n",
       "      <td>2100 - 2850</td>\n",
       "      <td>4.0</td>\n",
       "      <td>186.000</td>\n",
       "      <td>4</td>\n",
       "    </tr>\n",
       "    <tr>\n",
       "      <th>122</th>\n",
       "      <td>Super built-up  Area</td>\n",
       "      <td>Hebbal</td>\n",
       "      <td>3067 - 8156</td>\n",
       "      <td>4.0</td>\n",
       "      <td>477.000</td>\n",
       "      <td>4</td>\n",
       "    </tr>\n",
       "    <tr>\n",
       "      <th>137</th>\n",
       "      <td>Super built-up  Area</td>\n",
       "      <td>8th Phase JP Nagar</td>\n",
       "      <td>1042 - 1105</td>\n",
       "      <td>2.0</td>\n",
       "      <td>54.005</td>\n",
       "      <td>2</td>\n",
       "    </tr>\n",
       "    <tr>\n",
       "      <th>165</th>\n",
       "      <td>Super built-up  Area</td>\n",
       "      <td>Sarjapur</td>\n",
       "      <td>1145 - 1340</td>\n",
       "      <td>2.0</td>\n",
       "      <td>43.490</td>\n",
       "      <td>2</td>\n",
       "    </tr>\n",
       "    <tr>\n",
       "      <th>188</th>\n",
       "      <td>Super built-up  Area</td>\n",
       "      <td>KR Puram</td>\n",
       "      <td>1015 - 1540</td>\n",
       "      <td>2.0</td>\n",
       "      <td>56.800</td>\n",
       "      <td>2</td>\n",
       "    </tr>\n",
       "  </tbody>\n",
       "</table>\n",
       "</div>"
      ],
      "text/plain": [
       "                area_type            location   total_sqft  bath    price  BHK\n",
       "30   Super built-up  Area           Yelahanka  2100 - 2850   4.0  186.000    4\n",
       "122  Super built-up  Area              Hebbal  3067 - 8156   4.0  477.000    4\n",
       "137  Super built-up  Area  8th Phase JP Nagar  1042 - 1105   2.0   54.005    2\n",
       "165  Super built-up  Area            Sarjapur  1145 - 1340   2.0   43.490    2\n",
       "188  Super built-up  Area            KR Puram  1015 - 1540   2.0   56.800    2"
      ]
     },
     "execution_count": 14,
     "metadata": {},
     "output_type": "execute_result"
    }
   ],
   "source": [
    "df4[~df4[\"total_sqft\"].apply(is_float)].head()"
   ]
  },
  {
   "cell_type": "code",
   "execution_count": 15,
   "id": "9e7ab988",
   "metadata": {
    "execution": {
     "iopub.execute_input": "2023-12-23T06:57:00.346537Z",
     "iopub.status.busy": "2023-12-23T06:57:00.345695Z",
     "iopub.status.idle": "2023-12-23T06:57:00.352388Z",
     "shell.execute_reply": "2023-12-23T06:57:00.351296Z"
    },
    "papermill": {
     "duration": 0.039967,
     "end_time": "2023-12-23T06:57:00.355275",
     "exception": false,
     "start_time": "2023-12-23T06:57:00.315308",
     "status": "completed"
    },
    "tags": []
   },
   "outputs": [],
   "source": [
    "def range_convert(x):\n",
    "    lis=x.split(\"-\")\n",
    "    if(len(lis)==2):\n",
    "        return (float(lis[0])+float(lis[1]))/2\n",
    "    try:\n",
    "        return float(x)\n",
    "    except:\n",
    "        return None"
   ]
  },
  {
   "cell_type": "code",
   "execution_count": 16,
   "id": "734a06cf",
   "metadata": {
    "execution": {
     "iopub.execute_input": "2023-12-23T06:57:00.413896Z",
     "iopub.status.busy": "2023-12-23T06:57:00.413289Z",
     "iopub.status.idle": "2023-12-23T06:57:00.453660Z",
     "shell.execute_reply": "2023-12-23T06:57:00.452361Z"
    },
    "papermill": {
     "duration": 0.072896,
     "end_time": "2023-12-23T06:57:00.456305",
     "exception": false,
     "start_time": "2023-12-23T06:57:00.383409",
     "status": "completed"
    },
    "tags": []
   },
   "outputs": [
    {
     "data": {
      "text/html": [
       "<div>\n",
       "<style scoped>\n",
       "    .dataframe tbody tr th:only-of-type {\n",
       "        vertical-align: middle;\n",
       "    }\n",
       "\n",
       "    .dataframe tbody tr th {\n",
       "        vertical-align: top;\n",
       "    }\n",
       "\n",
       "    .dataframe thead th {\n",
       "        text-align: right;\n",
       "    }\n",
       "</style>\n",
       "<table border=\"1\" class=\"dataframe\">\n",
       "  <thead>\n",
       "    <tr style=\"text-align: right;\">\n",
       "      <th></th>\n",
       "      <th>area_type</th>\n",
       "      <th>location</th>\n",
       "      <th>total_sqft</th>\n",
       "      <th>bath</th>\n",
       "      <th>price</th>\n",
       "      <th>BHK</th>\n",
       "    </tr>\n",
       "  </thead>\n",
       "  <tbody>\n",
       "    <tr>\n",
       "      <th>0</th>\n",
       "      <td>Super built-up  Area</td>\n",
       "      <td>Electronic City Phase II</td>\n",
       "      <td>1056.0</td>\n",
       "      <td>2.0</td>\n",
       "      <td>39.07</td>\n",
       "      <td>2</td>\n",
       "    </tr>\n",
       "    <tr>\n",
       "      <th>1</th>\n",
       "      <td>Plot  Area</td>\n",
       "      <td>Chikka Tirupathi</td>\n",
       "      <td>2600.0</td>\n",
       "      <td>5.0</td>\n",
       "      <td>120.00</td>\n",
       "      <td>4</td>\n",
       "    </tr>\n",
       "    <tr>\n",
       "      <th>2</th>\n",
       "      <td>Built-up  Area</td>\n",
       "      <td>Uttarahalli</td>\n",
       "      <td>1440.0</td>\n",
       "      <td>2.0</td>\n",
       "      <td>62.00</td>\n",
       "      <td>3</td>\n",
       "    </tr>\n",
       "    <tr>\n",
       "      <th>3</th>\n",
       "      <td>Super built-up  Area</td>\n",
       "      <td>Lingadheeranahalli</td>\n",
       "      <td>1521.0</td>\n",
       "      <td>3.0</td>\n",
       "      <td>95.00</td>\n",
       "      <td>3</td>\n",
       "    </tr>\n",
       "    <tr>\n",
       "      <th>4</th>\n",
       "      <td>Super built-up  Area</td>\n",
       "      <td>Kothanur</td>\n",
       "      <td>1200.0</td>\n",
       "      <td>2.0</td>\n",
       "      <td>51.00</td>\n",
       "      <td>2</td>\n",
       "    </tr>\n",
       "  </tbody>\n",
       "</table>\n",
       "</div>"
      ],
      "text/plain": [
       "              area_type                  location  total_sqft  bath   price  \\\n",
       "0  Super built-up  Area  Electronic City Phase II      1056.0   2.0   39.07   \n",
       "1            Plot  Area          Chikka Tirupathi      2600.0   5.0  120.00   \n",
       "2        Built-up  Area               Uttarahalli      1440.0   2.0   62.00   \n",
       "3  Super built-up  Area        Lingadheeranahalli      1521.0   3.0   95.00   \n",
       "4  Super built-up  Area                  Kothanur      1200.0   2.0   51.00   \n",
       "\n",
       "   BHK  \n",
       "0    2  \n",
       "1    4  \n",
       "2    3  \n",
       "3    3  \n",
       "4    2  "
      ]
     },
     "execution_count": 16,
     "metadata": {},
     "output_type": "execute_result"
    }
   ],
   "source": [
    "df5=df4.copy()\n",
    "df5[\"total_sqft\"]=df5[\"total_sqft\"].apply(range_convert)\n",
    "df5[df5[\"total_sqft\"].apply(is_float)].head()"
   ]
  },
  {
   "cell_type": "markdown",
   "id": "8d2e6380",
   "metadata": {
    "papermill": {
     "duration": 0.027738,
     "end_time": "2023-12-23T06:57:00.512837",
     "exception": false,
     "start_time": "2023-12-23T06:57:00.485099",
     "status": "completed"
    },
    "tags": []
   },
   "source": [
    "since there are cases like its written in total_sqft 34.4sqfeet there are few values and we place none values there so either we drop those rows or convert those values"
   ]
  },
  {
   "cell_type": "code",
   "execution_count": 17,
   "id": "73d1e5a0",
   "metadata": {
    "execution": {
     "iopub.execute_input": "2023-12-23T06:57:00.571222Z",
     "iopub.status.busy": "2023-12-23T06:57:00.570131Z",
     "iopub.status.idle": "2023-12-23T06:57:00.582483Z",
     "shell.execute_reply": "2023-12-23T06:57:00.581337Z"
    },
    "papermill": {
     "duration": 0.044202,
     "end_time": "2023-12-23T06:57:00.584842",
     "exception": false,
     "start_time": "2023-12-23T06:57:00.540640",
     "status": "completed"
    },
    "tags": []
   },
   "outputs": [
    {
     "data": {
      "text/plain": [
       "area_type      0\n",
       "location       0\n",
       "total_sqft    46\n",
       "bath           0\n",
       "price          0\n",
       "BHK            0\n",
       "dtype: int64"
      ]
     },
     "execution_count": 17,
     "metadata": {},
     "output_type": "execute_result"
    }
   ],
   "source": [
    "df5.isnull().sum()"
   ]
  },
  {
   "cell_type": "markdown",
   "id": "a86839ad",
   "metadata": {
    "papermill": {
     "duration": 0.028137,
     "end_time": "2023-12-23T06:57:00.641233",
     "exception": false,
     "start_time": "2023-12-23T06:57:00.613096",
     "status": "completed"
    },
    "tags": []
   },
   "source": [
    "since there are only 46 of those value and number of rows are large so we can drop it for simplicity"
   ]
  },
  {
   "cell_type": "code",
   "execution_count": 18,
   "id": "48b4a20c",
   "metadata": {
    "execution": {
     "iopub.execute_input": "2023-12-23T06:57:00.699919Z",
     "iopub.status.busy": "2023-12-23T06:57:00.698905Z",
     "iopub.status.idle": "2023-12-23T06:57:00.716868Z",
     "shell.execute_reply": "2023-12-23T06:57:00.715445Z"
    },
    "papermill": {
     "duration": 0.050024,
     "end_time": "2023-12-23T06:57:00.719401",
     "exception": false,
     "start_time": "2023-12-23T06:57:00.669377",
     "status": "completed"
    },
    "tags": []
   },
   "outputs": [
    {
     "data": {
      "text/plain": [
       "area_type     0\n",
       "location      0\n",
       "total_sqft    0\n",
       "bath          0\n",
       "price         0\n",
       "BHK           0\n",
       "dtype: int64"
      ]
     },
     "execution_count": 18,
     "metadata": {},
     "output_type": "execute_result"
    }
   ],
   "source": [
    "df5.dropna(inplace=True)\n",
    "df5.isnull().sum()"
   ]
  },
  {
   "cell_type": "markdown",
   "id": "093dce13",
   "metadata": {
    "papermill": {
     "duration": 0.02976,
     "end_time": "2023-12-23T06:57:00.777915",
     "exception": false,
     "start_time": "2023-12-23T06:57:00.748155",
     "status": "completed"
    },
    "tags": []
   },
   "source": [
    "**Add new feature called price per square feet**"
   ]
  },
  {
   "cell_type": "code",
   "execution_count": 19,
   "id": "717b73b8",
   "metadata": {
    "execution": {
     "iopub.execute_input": "2023-12-23T06:57:00.837489Z",
     "iopub.status.busy": "2023-12-23T06:57:00.837095Z",
     "iopub.status.idle": "2023-12-23T06:57:00.855389Z",
     "shell.execute_reply": "2023-12-23T06:57:00.854448Z"
    },
    "papermill": {
     "duration": 0.050262,
     "end_time": "2023-12-23T06:57:00.857527",
     "exception": false,
     "start_time": "2023-12-23T06:57:00.807265",
     "status": "completed"
    },
    "tags": []
   },
   "outputs": [
    {
     "data": {
      "text/html": [
       "<div>\n",
       "<style scoped>\n",
       "    .dataframe tbody tr th:only-of-type {\n",
       "        vertical-align: middle;\n",
       "    }\n",
       "\n",
       "    .dataframe tbody tr th {\n",
       "        vertical-align: top;\n",
       "    }\n",
       "\n",
       "    .dataframe thead th {\n",
       "        text-align: right;\n",
       "    }\n",
       "</style>\n",
       "<table border=\"1\" class=\"dataframe\">\n",
       "  <thead>\n",
       "    <tr style=\"text-align: right;\">\n",
       "      <th></th>\n",
       "      <th>area_type</th>\n",
       "      <th>location</th>\n",
       "      <th>total_sqft</th>\n",
       "      <th>bath</th>\n",
       "      <th>price</th>\n",
       "      <th>BHK</th>\n",
       "      <th>price_per_sqft</th>\n",
       "    </tr>\n",
       "  </thead>\n",
       "  <tbody>\n",
       "    <tr>\n",
       "      <th>0</th>\n",
       "      <td>Super built-up  Area</td>\n",
       "      <td>Electronic City Phase II</td>\n",
       "      <td>1056.0</td>\n",
       "      <td>2.0</td>\n",
       "      <td>39.07</td>\n",
       "      <td>2</td>\n",
       "      <td>3699.810606</td>\n",
       "    </tr>\n",
       "    <tr>\n",
       "      <th>1</th>\n",
       "      <td>Plot  Area</td>\n",
       "      <td>Chikka Tirupathi</td>\n",
       "      <td>2600.0</td>\n",
       "      <td>5.0</td>\n",
       "      <td>120.00</td>\n",
       "      <td>4</td>\n",
       "      <td>4615.384615</td>\n",
       "    </tr>\n",
       "    <tr>\n",
       "      <th>2</th>\n",
       "      <td>Built-up  Area</td>\n",
       "      <td>Uttarahalli</td>\n",
       "      <td>1440.0</td>\n",
       "      <td>2.0</td>\n",
       "      <td>62.00</td>\n",
       "      <td>3</td>\n",
       "      <td>4305.555556</td>\n",
       "    </tr>\n",
       "    <tr>\n",
       "      <th>3</th>\n",
       "      <td>Super built-up  Area</td>\n",
       "      <td>Lingadheeranahalli</td>\n",
       "      <td>1521.0</td>\n",
       "      <td>3.0</td>\n",
       "      <td>95.00</td>\n",
       "      <td>3</td>\n",
       "      <td>6245.890861</td>\n",
       "    </tr>\n",
       "    <tr>\n",
       "      <th>4</th>\n",
       "      <td>Super built-up  Area</td>\n",
       "      <td>Kothanur</td>\n",
       "      <td>1200.0</td>\n",
       "      <td>2.0</td>\n",
       "      <td>51.00</td>\n",
       "      <td>2</td>\n",
       "      <td>4250.000000</td>\n",
       "    </tr>\n",
       "  </tbody>\n",
       "</table>\n",
       "</div>"
      ],
      "text/plain": [
       "              area_type                  location  total_sqft  bath   price  \\\n",
       "0  Super built-up  Area  Electronic City Phase II      1056.0   2.0   39.07   \n",
       "1            Plot  Area          Chikka Tirupathi      2600.0   5.0  120.00   \n",
       "2        Built-up  Area               Uttarahalli      1440.0   2.0   62.00   \n",
       "3  Super built-up  Area        Lingadheeranahalli      1521.0   3.0   95.00   \n",
       "4  Super built-up  Area                  Kothanur      1200.0   2.0   51.00   \n",
       "\n",
       "   BHK  price_per_sqft  \n",
       "0    2     3699.810606  \n",
       "1    4     4615.384615  \n",
       "2    3     4305.555556  \n",
       "3    3     6245.890861  \n",
       "4    2     4250.000000  "
      ]
     },
     "execution_count": 19,
     "metadata": {},
     "output_type": "execute_result"
    }
   ],
   "source": [
    "df6 = df5.copy()\n",
    "df6['price_per_sqft'] = df6['price']*100000/df5['total_sqft']\n",
    "df6.head()"
   ]
  },
  {
   "cell_type": "code",
   "execution_count": 20,
   "id": "67a66842",
   "metadata": {
    "execution": {
     "iopub.execute_input": "2023-12-23T06:57:00.916947Z",
     "iopub.status.busy": "2023-12-23T06:57:00.916238Z",
     "iopub.status.idle": "2023-12-23T06:57:00.929570Z",
     "shell.execute_reply": "2023-12-23T06:57:00.928486Z"
    },
    "papermill": {
     "duration": 0.045908,
     "end_time": "2023-12-23T06:57:00.932068",
     "exception": false,
     "start_time": "2023-12-23T06:57:00.886160",
     "status": "completed"
    },
    "tags": []
   },
   "outputs": [
    {
     "data": {
      "text/plain": [
       "count    1.320000e+04\n",
       "mean     7.920759e+03\n",
       "std      1.067272e+05\n",
       "min      2.678298e+02\n",
       "25%      4.267701e+03\n",
       "50%      5.438331e+03\n",
       "75%      7.317073e+03\n",
       "max      1.200000e+07\n",
       "Name: price_per_sqft, dtype: float64"
      ]
     },
     "execution_count": 20,
     "metadata": {},
     "output_type": "execute_result"
    }
   ],
   "source": [
    "df6['price_per_sqft'].describe()\n"
   ]
  },
  {
   "cell_type": "markdown",
   "id": "35575575",
   "metadata": {
    "papermill": {
     "duration": 0.030099,
     "end_time": "2023-12-23T06:57:00.991273",
     "exception": false,
     "start_time": "2023-12-23T06:57:00.961174",
     "status": "completed"
    },
    "tags": []
   },
   "source": [
    "**Examine locations which is a categorical variable. We need to apply dimensionality reduction technique here to reduce number of locations**"
   ]
  },
  {
   "cell_type": "code",
   "execution_count": 21,
   "id": "9ecc3569",
   "metadata": {
    "execution": {
     "iopub.execute_input": "2023-12-23T06:57:01.051739Z",
     "iopub.status.busy": "2023-12-23T06:57:01.050935Z",
     "iopub.status.idle": "2023-12-23T06:57:01.066229Z",
     "shell.execute_reply": "2023-12-23T06:57:01.065093Z"
    },
    "papermill": {
     "duration": 0.048306,
     "end_time": "2023-12-23T06:57:01.068779",
     "exception": false,
     "start_time": "2023-12-23T06:57:01.020473",
     "status": "completed"
    },
    "tags": []
   },
   "outputs": [
    {
     "data": {
      "text/plain": [
       "location\n",
       "Whitefield                   532\n",
       "Sarjapur  Road               392\n",
       "Electronic City              302\n",
       "Kanakpura Road               264\n",
       "Thanisandra                  232\n",
       "                            ... \n",
       "Indiranagar HAL 2nd Stage      1\n",
       "Maruthi HBCS Layout            1\n",
       "K R C kothanur                 1\n",
       "1Channasandra                  1\n",
       "Abshot Layout                  1\n",
       "Name: count, Length: 1298, dtype: int64"
      ]
     },
     "execution_count": 21,
     "metadata": {},
     "output_type": "execute_result"
    }
   ],
   "source": [
    "location_stats=df6.location.value_counts()\n",
    "location_stats"
   ]
  },
  {
   "cell_type": "code",
   "execution_count": 22,
   "id": "8609f3f6",
   "metadata": {
    "execution": {
     "iopub.execute_input": "2023-12-23T06:57:01.130522Z",
     "iopub.status.busy": "2023-12-23T06:57:01.129280Z",
     "iopub.status.idle": "2023-12-23T06:57:01.137443Z",
     "shell.execute_reply": "2023-12-23T06:57:01.136413Z"
    },
    "papermill": {
     "duration": 0.041306,
     "end_time": "2023-12-23T06:57:01.139864",
     "exception": false,
     "start_time": "2023-12-23T06:57:01.098558",
     "status": "completed"
    },
    "tags": []
   },
   "outputs": [
    {
     "data": {
      "text/plain": [
       "240"
      ]
     },
     "execution_count": 22,
     "metadata": {},
     "output_type": "execute_result"
    }
   ],
   "source": [
    "len(location_stats[location_stats>10])"
   ]
  },
  {
   "cell_type": "code",
   "execution_count": 23,
   "id": "99d65cf0",
   "metadata": {
    "execution": {
     "iopub.execute_input": "2023-12-23T06:57:01.200647Z",
     "iopub.status.busy": "2023-12-23T06:57:01.199865Z",
     "iopub.status.idle": "2023-12-23T06:57:01.207445Z",
     "shell.execute_reply": "2023-12-23T06:57:01.206354Z"
    },
    "papermill": {
     "duration": 0.040922,
     "end_time": "2023-12-23T06:57:01.209988",
     "exception": false,
     "start_time": "2023-12-23T06:57:01.169066",
     "status": "completed"
    },
    "tags": []
   },
   "outputs": [
    {
     "data": {
      "text/plain": [
       "1045"
      ]
     },
     "execution_count": 23,
     "metadata": {},
     "output_type": "execute_result"
    }
   ],
   "source": [
    "len(location_stats[location_stats<10])"
   ]
  },
  {
   "cell_type": "markdown",
   "id": "d4b6da26",
   "metadata": {
    "papermill": {
     "duration": 0.029287,
     "end_time": "2023-12-23T06:57:01.268628",
     "exception": false,
     "start_time": "2023-12-23T06:57:01.239341",
     "status": "completed"
    },
    "tags": []
   },
   "source": [
    "Dimensionality reduction by changing location_stats<10 values in other"
   ]
  },
  {
   "cell_type": "code",
   "execution_count": 24,
   "id": "d27325f3",
   "metadata": {
    "execution": {
     "iopub.execute_input": "2023-12-23T06:57:01.329117Z",
     "iopub.status.busy": "2023-12-23T06:57:01.328727Z",
     "iopub.status.idle": "2023-12-23T06:57:01.393803Z",
     "shell.execute_reply": "2023-12-23T06:57:01.392662Z"
    },
    "papermill": {
     "duration": 0.098421,
     "end_time": "2023-12-23T06:57:01.396450",
     "exception": false,
     "start_time": "2023-12-23T06:57:01.298029",
     "status": "completed"
    },
    "tags": []
   },
   "outputs": [
    {
     "data": {
      "text/html": [
       "<div>\n",
       "<style scoped>\n",
       "    .dataframe tbody tr th:only-of-type {\n",
       "        vertical-align: middle;\n",
       "    }\n",
       "\n",
       "    .dataframe tbody tr th {\n",
       "        vertical-align: top;\n",
       "    }\n",
       "\n",
       "    .dataframe thead th {\n",
       "        text-align: right;\n",
       "    }\n",
       "</style>\n",
       "<table border=\"1\" class=\"dataframe\">\n",
       "  <thead>\n",
       "    <tr style=\"text-align: right;\">\n",
       "      <th></th>\n",
       "      <th>area_type</th>\n",
       "      <th>location</th>\n",
       "      <th>total_sqft</th>\n",
       "      <th>bath</th>\n",
       "      <th>price</th>\n",
       "      <th>BHK</th>\n",
       "      <th>price_per_sqft</th>\n",
       "    </tr>\n",
       "  </thead>\n",
       "  <tbody>\n",
       "    <tr>\n",
       "      <th>0</th>\n",
       "      <td>Super built-up  Area</td>\n",
       "      <td>Electronic City Phase II</td>\n",
       "      <td>1056.0</td>\n",
       "      <td>2.0</td>\n",
       "      <td>39.07</td>\n",
       "      <td>2</td>\n",
       "      <td>3699.810606</td>\n",
       "    </tr>\n",
       "    <tr>\n",
       "      <th>1</th>\n",
       "      <td>Plot  Area</td>\n",
       "      <td>Chikka Tirupathi</td>\n",
       "      <td>2600.0</td>\n",
       "      <td>5.0</td>\n",
       "      <td>120.00</td>\n",
       "      <td>4</td>\n",
       "      <td>4615.384615</td>\n",
       "    </tr>\n",
       "    <tr>\n",
       "      <th>2</th>\n",
       "      <td>Built-up  Area</td>\n",
       "      <td>Uttarahalli</td>\n",
       "      <td>1440.0</td>\n",
       "      <td>2.0</td>\n",
       "      <td>62.00</td>\n",
       "      <td>3</td>\n",
       "      <td>4305.555556</td>\n",
       "    </tr>\n",
       "    <tr>\n",
       "      <th>3</th>\n",
       "      <td>Super built-up  Area</td>\n",
       "      <td>Lingadheeranahalli</td>\n",
       "      <td>1521.0</td>\n",
       "      <td>3.0</td>\n",
       "      <td>95.00</td>\n",
       "      <td>3</td>\n",
       "      <td>6245.890861</td>\n",
       "    </tr>\n",
       "    <tr>\n",
       "      <th>4</th>\n",
       "      <td>Super built-up  Area</td>\n",
       "      <td>Kothanur</td>\n",
       "      <td>1200.0</td>\n",
       "      <td>2.0</td>\n",
       "      <td>51.00</td>\n",
       "      <td>2</td>\n",
       "      <td>4250.000000</td>\n",
       "    </tr>\n",
       "    <tr>\n",
       "      <th>5</th>\n",
       "      <td>Super built-up  Area</td>\n",
       "      <td>Whitefield</td>\n",
       "      <td>1170.0</td>\n",
       "      <td>2.0</td>\n",
       "      <td>38.00</td>\n",
       "      <td>2</td>\n",
       "      <td>3247.863248</td>\n",
       "    </tr>\n",
       "    <tr>\n",
       "      <th>6</th>\n",
       "      <td>Super built-up  Area</td>\n",
       "      <td>Old Airport Road</td>\n",
       "      <td>2732.0</td>\n",
       "      <td>4.0</td>\n",
       "      <td>204.00</td>\n",
       "      <td>4</td>\n",
       "      <td>7467.057101</td>\n",
       "    </tr>\n",
       "    <tr>\n",
       "      <th>7</th>\n",
       "      <td>Super built-up  Area</td>\n",
       "      <td>Rajaji Nagar</td>\n",
       "      <td>3300.0</td>\n",
       "      <td>4.0</td>\n",
       "      <td>600.00</td>\n",
       "      <td>4</td>\n",
       "      <td>18181.818182</td>\n",
       "    </tr>\n",
       "    <tr>\n",
       "      <th>8</th>\n",
       "      <td>Super built-up  Area</td>\n",
       "      <td>Marathahalli</td>\n",
       "      <td>1310.0</td>\n",
       "      <td>3.0</td>\n",
       "      <td>63.25</td>\n",
       "      <td>3</td>\n",
       "      <td>4828.244275</td>\n",
       "    </tr>\n",
       "    <tr>\n",
       "      <th>9</th>\n",
       "      <td>Plot  Area</td>\n",
       "      <td>other</td>\n",
       "      <td>1020.0</td>\n",
       "      <td>6.0</td>\n",
       "      <td>370.00</td>\n",
       "      <td>6</td>\n",
       "      <td>36274.509804</td>\n",
       "    </tr>\n",
       "  </tbody>\n",
       "</table>\n",
       "</div>"
      ],
      "text/plain": [
       "              area_type                  location  total_sqft  bath   price  \\\n",
       "0  Super built-up  Area  Electronic City Phase II      1056.0   2.0   39.07   \n",
       "1            Plot  Area          Chikka Tirupathi      2600.0   5.0  120.00   \n",
       "2        Built-up  Area               Uttarahalli      1440.0   2.0   62.00   \n",
       "3  Super built-up  Area        Lingadheeranahalli      1521.0   3.0   95.00   \n",
       "4  Super built-up  Area                  Kothanur      1200.0   2.0   51.00   \n",
       "5  Super built-up  Area                Whitefield      1170.0   2.0   38.00   \n",
       "6  Super built-up  Area          Old Airport Road      2732.0   4.0  204.00   \n",
       "7  Super built-up  Area              Rajaji Nagar      3300.0   4.0  600.00   \n",
       "8  Super built-up  Area              Marathahalli      1310.0   3.0   63.25   \n",
       "9            Plot  Area                     other      1020.0   6.0  370.00   \n",
       "\n",
       "   BHK  price_per_sqft  \n",
       "0    2     3699.810606  \n",
       "1    4     4615.384615  \n",
       "2    3     4305.555556  \n",
       "3    3     6245.890861  \n",
       "4    2     4250.000000  \n",
       "5    2     3247.863248  \n",
       "6    4     7467.057101  \n",
       "7    4    18181.818182  \n",
       "8    3     4828.244275  \n",
       "9    6    36274.509804  "
      ]
     },
     "execution_count": 24,
     "metadata": {},
     "output_type": "execute_result"
    }
   ],
   "source": [
    "loc_less_than_10=location_stats[location_stats<10]\n",
    "df6[\"location\"]=df6.location.apply(lambda x: \"other\" if x in loc_less_than_10 else x)\n",
    "df6.head(10)"
   ]
  },
  {
   "cell_type": "markdown",
   "id": "b9e16f13",
   "metadata": {
    "papermill": {
     "duration": 0.030815,
     "end_time": "2023-12-23T06:57:01.457816",
     "exception": false,
     "start_time": "2023-12-23T06:57:01.427001",
     "status": "completed"
    },
    "tags": []
   },
   "source": [
    "OUTLIERS REMOVAL USING BUSINESS LOGIC\n",
    "\n",
    "1.As a data scientist when you have a conversation with your business manager (who has expertise in real estate), he will tell you that normally square ft per bedroom is 300 (i.e. 2 bhk apartment is minimum 600 sqft. If you have for example 400 sqft apartment with 2 bhk than that seems suspicious and can be removed as an outlier. We will remove such outliers by keeping our minimum thresold per bhk to be 300 sqft"
   ]
  },
  {
   "cell_type": "code",
   "execution_count": 25,
   "id": "14c2601f",
   "metadata": {
    "execution": {
     "iopub.execute_input": "2023-12-23T06:57:01.519559Z",
     "iopub.status.busy": "2023-12-23T06:57:01.519152Z",
     "iopub.status.idle": "2023-12-23T06:57:01.543257Z",
     "shell.execute_reply": "2023-12-23T06:57:01.541993Z"
    },
    "papermill": {
     "duration": 0.05789,
     "end_time": "2023-12-23T06:57:01.545692",
     "exception": false,
     "start_time": "2023-12-23T06:57:01.487802",
     "status": "completed"
    },
    "tags": []
   },
   "outputs": [
    {
     "data": {
      "text/html": [
       "<div>\n",
       "<style scoped>\n",
       "    .dataframe tbody tr th:only-of-type {\n",
       "        vertical-align: middle;\n",
       "    }\n",
       "\n",
       "    .dataframe tbody tr th {\n",
       "        vertical-align: top;\n",
       "    }\n",
       "\n",
       "    .dataframe thead th {\n",
       "        text-align: right;\n",
       "    }\n",
       "</style>\n",
       "<table border=\"1\" class=\"dataframe\">\n",
       "  <thead>\n",
       "    <tr style=\"text-align: right;\">\n",
       "      <th></th>\n",
       "      <th>area_type</th>\n",
       "      <th>location</th>\n",
       "      <th>total_sqft</th>\n",
       "      <th>bath</th>\n",
       "      <th>price</th>\n",
       "      <th>BHK</th>\n",
       "      <th>price_per_sqft</th>\n",
       "    </tr>\n",
       "  </thead>\n",
       "  <tbody>\n",
       "    <tr>\n",
       "      <th>9</th>\n",
       "      <td>Plot  Area</td>\n",
       "      <td>other</td>\n",
       "      <td>1020.0</td>\n",
       "      <td>6.0</td>\n",
       "      <td>370.0</td>\n",
       "      <td>6</td>\n",
       "      <td>36274.509804</td>\n",
       "    </tr>\n",
       "    <tr>\n",
       "      <th>45</th>\n",
       "      <td>Plot  Area</td>\n",
       "      <td>HSR Layout</td>\n",
       "      <td>600.0</td>\n",
       "      <td>9.0</td>\n",
       "      <td>200.0</td>\n",
       "      <td>8</td>\n",
       "      <td>33333.333333</td>\n",
       "    </tr>\n",
       "    <tr>\n",
       "      <th>58</th>\n",
       "      <td>Plot  Area</td>\n",
       "      <td>Murugeshpalya</td>\n",
       "      <td>1407.0</td>\n",
       "      <td>4.0</td>\n",
       "      <td>150.0</td>\n",
       "      <td>6</td>\n",
       "      <td>10660.980810</td>\n",
       "    </tr>\n",
       "    <tr>\n",
       "      <th>68</th>\n",
       "      <td>Plot  Area</td>\n",
       "      <td>other</td>\n",
       "      <td>1350.0</td>\n",
       "      <td>7.0</td>\n",
       "      <td>85.0</td>\n",
       "      <td>8</td>\n",
       "      <td>6296.296296</td>\n",
       "    </tr>\n",
       "    <tr>\n",
       "      <th>70</th>\n",
       "      <td>Plot  Area</td>\n",
       "      <td>other</td>\n",
       "      <td>500.0</td>\n",
       "      <td>3.0</td>\n",
       "      <td>100.0</td>\n",
       "      <td>3</td>\n",
       "      <td>20000.000000</td>\n",
       "    </tr>\n",
       "    <tr>\n",
       "      <th>...</th>\n",
       "      <td>...</td>\n",
       "      <td>...</td>\n",
       "      <td>...</td>\n",
       "      <td>...</td>\n",
       "      <td>...</td>\n",
       "      <td>...</td>\n",
       "      <td>...</td>\n",
       "    </tr>\n",
       "    <tr>\n",
       "      <th>13277</th>\n",
       "      <td>Plot  Area</td>\n",
       "      <td>other</td>\n",
       "      <td>1400.0</td>\n",
       "      <td>7.0</td>\n",
       "      <td>218.0</td>\n",
       "      <td>7</td>\n",
       "      <td>15571.428571</td>\n",
       "    </tr>\n",
       "    <tr>\n",
       "      <th>13279</th>\n",
       "      <td>Plot  Area</td>\n",
       "      <td>other</td>\n",
       "      <td>1200.0</td>\n",
       "      <td>5.0</td>\n",
       "      <td>130.0</td>\n",
       "      <td>6</td>\n",
       "      <td>10833.333333</td>\n",
       "    </tr>\n",
       "    <tr>\n",
       "      <th>13281</th>\n",
       "      <td>Plot  Area</td>\n",
       "      <td>Margondanahalli</td>\n",
       "      <td>1375.0</td>\n",
       "      <td>5.0</td>\n",
       "      <td>125.0</td>\n",
       "      <td>5</td>\n",
       "      <td>9090.909091</td>\n",
       "    </tr>\n",
       "    <tr>\n",
       "      <th>13303</th>\n",
       "      <td>Plot  Area</td>\n",
       "      <td>Vidyaranyapura</td>\n",
       "      <td>774.0</td>\n",
       "      <td>5.0</td>\n",
       "      <td>70.0</td>\n",
       "      <td>5</td>\n",
       "      <td>9043.927649</td>\n",
       "    </tr>\n",
       "    <tr>\n",
       "      <th>13311</th>\n",
       "      <td>Plot  Area</td>\n",
       "      <td>Ramamurthy Nagar</td>\n",
       "      <td>1500.0</td>\n",
       "      <td>9.0</td>\n",
       "      <td>250.0</td>\n",
       "      <td>7</td>\n",
       "      <td>16666.666667</td>\n",
       "    </tr>\n",
       "  </tbody>\n",
       "</table>\n",
       "<p>744 rows × 7 columns</p>\n",
       "</div>"
      ],
      "text/plain": [
       "        area_type          location  total_sqft  bath  price  BHK  \\\n",
       "9      Plot  Area             other      1020.0   6.0  370.0    6   \n",
       "45     Plot  Area        HSR Layout       600.0   9.0  200.0    8   \n",
       "58     Plot  Area     Murugeshpalya      1407.0   4.0  150.0    6   \n",
       "68     Plot  Area             other      1350.0   7.0   85.0    8   \n",
       "70     Plot  Area             other       500.0   3.0  100.0    3   \n",
       "...           ...               ...         ...   ...    ...  ...   \n",
       "13277  Plot  Area             other      1400.0   7.0  218.0    7   \n",
       "13279  Plot  Area             other      1200.0   5.0  130.0    6   \n",
       "13281  Plot  Area   Margondanahalli      1375.0   5.0  125.0    5   \n",
       "13303  Plot  Area    Vidyaranyapura       774.0   5.0   70.0    5   \n",
       "13311  Plot  Area  Ramamurthy Nagar      1500.0   9.0  250.0    7   \n",
       "\n",
       "       price_per_sqft  \n",
       "9        36274.509804  \n",
       "45       33333.333333  \n",
       "58       10660.980810  \n",
       "68        6296.296296  \n",
       "70       20000.000000  \n",
       "...               ...  \n",
       "13277    15571.428571  \n",
       "13279    10833.333333  \n",
       "13281     9090.909091  \n",
       "13303     9043.927649  \n",
       "13311    16666.666667  \n",
       "\n",
       "[744 rows x 7 columns]"
      ]
     },
     "execution_count": 25,
     "metadata": {},
     "output_type": "execute_result"
    }
   ],
   "source": [
    "df6[df6[\"total_sqft\"]/df6[\"BHK\"]<300]\n"
   ]
  },
  {
   "cell_type": "markdown",
   "id": "c19d535b",
   "metadata": {
    "papermill": {
     "duration": 0.030782,
     "end_time": "2023-12-23T06:57:01.606943",
     "exception": false,
     "start_time": "2023-12-23T06:57:01.576161",
     "status": "completed"
    },
    "tags": []
   },
   "source": [
    "so above dataframe contains all outliers so we will remove all these rows"
   ]
  },
  {
   "cell_type": "code",
   "execution_count": 26,
   "id": "f643f4df",
   "metadata": {
    "execution": {
     "iopub.execute_input": "2023-12-23T06:57:01.670454Z",
     "iopub.status.busy": "2023-12-23T06:57:01.669745Z",
     "iopub.status.idle": "2023-12-23T06:57:01.679051Z",
     "shell.execute_reply": "2023-12-23T06:57:01.677996Z"
    },
    "papermill": {
     "duration": 0.044426,
     "end_time": "2023-12-23T06:57:01.681475",
     "exception": false,
     "start_time": "2023-12-23T06:57:01.637049",
     "status": "completed"
    },
    "tags": []
   },
   "outputs": [
    {
     "data": {
      "text/plain": [
       "(12456, 7)"
      ]
     },
     "execution_count": 26,
     "metadata": {},
     "output_type": "execute_result"
    }
   ],
   "source": [
    "df7=df6[df6[\"total_sqft\"]/df6[\"BHK\"]>=300]\n",
    "df7.shape"
   ]
  },
  {
   "cell_type": "markdown",
   "id": "c06ab8b9",
   "metadata": {
    "papermill": {
     "duration": 0.030061,
     "end_time": "2023-12-23T06:57:01.741781",
     "exception": false,
     "start_time": "2023-12-23T06:57:01.711720",
     "status": "completed"
    },
    "tags": []
   },
   "source": [
    "2.Outliers removal using Standard deviation and mean"
   ]
  },
  {
   "cell_type": "code",
   "execution_count": 27,
   "id": "9b00c22a",
   "metadata": {
    "execution": {
     "iopub.execute_input": "2023-12-23T06:57:01.804954Z",
     "iopub.status.busy": "2023-12-23T06:57:01.804144Z",
     "iopub.status.idle": "2023-12-23T06:57:01.816354Z",
     "shell.execute_reply": "2023-12-23T06:57:01.815220Z"
    },
    "papermill": {
     "duration": 0.046839,
     "end_time": "2023-12-23T06:57:01.818827",
     "exception": false,
     "start_time": "2023-12-23T06:57:01.771988",
     "status": "completed"
    },
    "tags": []
   },
   "outputs": [
    {
     "data": {
      "text/plain": [
       "count     12456.000000\n",
       "mean       6308.502826\n",
       "std        4168.127339\n",
       "min         267.829813\n",
       "25%        4210.526316\n",
       "50%        5294.117647\n",
       "75%        6916.666667\n",
       "max      176470.588235\n",
       "Name: price_per_sqft, dtype: float64"
      ]
     },
     "execution_count": 27,
     "metadata": {},
     "output_type": "execute_result"
    }
   ],
   "source": [
    "df7[\"price_per_sqft\"].describe()"
   ]
  },
  {
   "cell_type": "markdown",
   "id": "2b2a1a39",
   "metadata": {
    "papermill": {
     "duration": 0.030187,
     "end_time": "2023-12-23T06:57:01.879253",
     "exception": false,
     "start_time": "2023-12-23T06:57:01.849066",
     "status": "completed"
    },
    "tags": []
   },
   "source": [
    "Here we find that min price per sqft is 267 rs/sqft whereas max is 176470, this shows a wide variation in property prices. We should remove outliers per location using mean and one standard deviation"
   ]
  },
  {
   "cell_type": "code",
   "execution_count": 28,
   "id": "0beaaacc",
   "metadata": {
    "execution": {
     "iopub.execute_input": "2023-12-23T06:57:01.944194Z",
     "iopub.status.busy": "2023-12-23T06:57:01.943361Z",
     "iopub.status.idle": "2023-12-23T06:57:02.417625Z",
     "shell.execute_reply": "2023-12-23T06:57:02.416418Z"
    },
    "papermill": {
     "duration": 0.509478,
     "end_time": "2023-12-23T06:57:02.420121",
     "exception": false,
     "start_time": "2023-12-23T06:57:01.910643",
     "status": "completed"
    },
    "tags": []
   },
   "outputs": [
    {
     "data": {
      "text/plain": [
       "(10226, 7)"
      ]
     },
     "execution_count": 28,
     "metadata": {},
     "output_type": "execute_result"
    }
   ],
   "source": [
    "def remove_outliers(df):\n",
    "    df_out = pd.DataFrame()\n",
    "    for key, subdf in df.groupby('location'):\n",
    "        m = np.mean(subdf.price_per_sqft)\n",
    "        st = np.std(subdf.price_per_sqft)\n",
    "        reduced_df = subdf[(subdf.price_per_sqft>(m-st)) & (subdf.price_per_sqft<=(m+st))]\n",
    "        df_out = pd.concat([df_out,reduced_df],ignore_index=True)\n",
    "    return df_out\n",
    "df8 = remove_outliers(df7)\n",
    "df8.shape"
   ]
  },
  {
   "cell_type": "markdown",
   "id": "ec1b1cb6",
   "metadata": {
    "papermill": {
     "duration": 0.031306,
     "end_time": "2023-12-23T06:57:02.482026",
     "exception": false,
     "start_time": "2023-12-23T06:57:02.450720",
     "status": "completed"
    },
    "tags": []
   },
   "source": [
    "3.Outliers removal for same location where 2 bhk has greater price as compared to 3bhk\n",
    "\n",
    "**Let's check if for a given location how does the 2 BHK and 3 BHK property prices look like**"
   ]
  },
  {
   "cell_type": "code",
   "execution_count": 29,
   "id": "b32b244c",
   "metadata": {
    "execution": {
     "iopub.execute_input": "2023-12-23T06:57:02.547165Z",
     "iopub.status.busy": "2023-12-23T06:57:02.546768Z",
     "iopub.status.idle": "2023-12-23T06:57:03.072776Z",
     "shell.execute_reply": "2023-12-23T06:57:03.071338Z"
    },
    "papermill": {
     "duration": 0.561138,
     "end_time": "2023-12-23T06:57:03.075386",
     "exception": false,
     "start_time": "2023-12-23T06:57:02.514248",
     "status": "completed"
    },
    "tags": []
   },
   "outputs": [
    {
     "data": {
      "image/png": "[encoded data removed]",
      "text/plain": [
       "<Figure size 1500x1000 with 1 Axes>"
      ]
     },
     "metadata": {},
     "output_type": "display_data"
    }
   ],
   "source": [
    "def plot_scatter_chart(df,location):\n",
    "    bhk2 = df[(df.location==location) & (df.BHK==2)]\n",
    "    bhk3 = df[(df.location==location) & (df.BHK==3)]\n",
    "    matplotlib.rcParams['figure.figsize'] = (15,10)\n",
    "    plt.scatter(bhk2.total_sqft,bhk2.price,color='blue',label='2 BHK', s=50)\n",
    "    plt.scatter(bhk3.total_sqft,bhk3.price,marker='+', color='green',label='3 BHK', s=50)\n",
    "    plt.xlabel(\"Total Square Feet Area\")\n",
    "    plt.ylabel(\"Price (Lakh Indian Rupees)\")\n",
    "    plt.title(location)\n",
    "    plt.legend()\n",
    "    \n",
    "plot_scatter_chart(df8,\"Rajaji Nagar\")"
   ]
  },
  {
   "cell_type": "markdown",
   "id": "e753a494",
   "metadata": {
    "papermill": {
     "duration": 0.031577,
     "end_time": "2023-12-23T06:57:03.139084",
     "exception": false,
     "start_time": "2023-12-23T06:57:03.107507",
     "status": "completed"
    },
    "tags": []
   },
   "source": [
    "In the graph we clearly see that blue marker at some places has higher prices as compared to green markers\n",
    "\n",
    "**We should also remove properties where for same location, the price of (for example) 3 bedroom apartment is less than 2 bedroom apartment (with same square ft area). What we will do is for a given location, we will build a dictionary of stats per bhk, i.e.**\n",
    "```\n",
    "{\n",
    "    '1' : {\n",
    "        'mean': 4000,\n",
    "        'std: 2000,\n",
    "        'count': 34\n",
    "    },\n",
    "    '2' : {\n",
    "        'mean': 4300,\n",
    "        'std: 2300,\n",
    "        'count': 22\n",
    "    },    \n",
    "}\n",
    "```\n",
    "**Now we can remove those 2 BHK apartments whose price_per_sqft is less than mean price_per_sqft of 1 BHK apartment**"
   ]
  },
  {
   "cell_type": "code",
   "execution_count": 30,
   "id": "00d0841a",
   "metadata": {
    "execution": {
     "iopub.execute_input": "2023-12-23T06:57:03.203807Z",
     "iopub.status.busy": "2023-12-23T06:57:03.203371Z",
     "iopub.status.idle": "2023-12-23T06:57:04.143213Z",
     "shell.execute_reply": "2023-12-23T06:57:04.142017Z"
    },
    "papermill": {
     "duration": 0.975281,
     "end_time": "2023-12-23T06:57:04.146002",
     "exception": false,
     "start_time": "2023-12-23T06:57:03.170721",
     "status": "completed"
    },
    "tags": []
   },
   "outputs": [
    {
     "data": {
      "text/plain": [
       "(7380, 7)"
      ]
     },
     "execution_count": 30,
     "metadata": {},
     "output_type": "execute_result"
    }
   ],
   "source": [
    "def remove_bhk_outliers(df):\n",
    "    exclude_indices = np.array([])\n",
    "    for location, location_df in df.groupby('location'):\n",
    "        bhk_stats = {}\n",
    "        for bhk, bhk_df in location_df.groupby('BHK'):\n",
    "            bhk_stats[bhk] = {\n",
    "                'mean': np.mean(bhk_df.price_per_sqft),\n",
    "                'std': np.std(bhk_df.price_per_sqft),\n",
    "                'count': bhk_df.shape[0]\n",
    "            }\n",
    "        for bhk, bhk_df in location_df.groupby('BHK'):\n",
    "            stats = bhk_stats.get(bhk-1)\n",
    "            if stats and stats['count']>5:\n",
    "                exclude_indices = np.append(exclude_indices, bhk_df[bhk_df.price_per_sqft<(stats['mean'])].index.values)\n",
    "    return df.drop(exclude_indices,axis='index')\n",
    "df9 = remove_bhk_outliers(df8)\n",
    "df9.shape"
   ]
  },
  {
   "cell_type": "code",
   "execution_count": 31,
   "id": "9eb4b9ee",
   "metadata": {
    "execution": {
     "iopub.execute_input": "2023-12-23T06:57:04.217084Z",
     "iopub.status.busy": "2023-12-23T06:57:04.216111Z",
     "iopub.status.idle": "2023-12-23T06:57:04.688297Z",
     "shell.execute_reply": "2023-12-23T06:57:04.687185Z"
    },
    "papermill": {
     "duration": 0.509406,
     "end_time": "2023-12-23T06:57:04.691320",
     "exception": false,
     "start_time": "2023-12-23T06:57:04.181914",
     "status": "completed"
    },
    "tags": []
   },
   "outputs": [
    {
     "data": {
      "image/png": "[encoded data removed]",
      "text/plain": [
       "<Figure size 1500x1000 with 1 Axes>"
      ]
     },
     "metadata": {},
     "output_type": "display_data"
    }
   ],
   "source": [
    "plot_scatter_chart(df9,\"Rajaji Nagar\")"
   ]
  },
  {
   "cell_type": "code",
   "execution_count": 32,
   "id": "25d32365",
   "metadata": {
    "execution": {
     "iopub.execute_input": "2023-12-23T06:57:04.757822Z",
     "iopub.status.busy": "2023-12-23T06:57:04.757122Z",
     "iopub.status.idle": "2023-12-23T06:57:05.099333Z",
     "shell.execute_reply": "2023-12-23T06:57:05.098175Z"
    },
    "papermill": {
     "duration": 0.378423,
     "end_time": "2023-12-23T06:57:05.101783",
     "exception": false,
     "start_time": "2023-12-23T06:57:04.723360",
     "status": "completed"
    },
    "tags": []
   },
   "outputs": [
    {
     "data": {
      "text/plain": [
       "Text(0, 0.5, 'Count')"
      ]
     },
     "execution_count": 32,
     "metadata": {},
     "output_type": "execute_result"
    },
    {
     "data": {
      "image/png": "[encoded data removed]",
      "text/plain": [
       "<Figure size 1500x1000 with 1 Axes>"
      ]
     },
     "metadata": {},
     "output_type": "display_data"
    }
   ],
   "source": [
    "plt.hist(df9.price_per_sqft,rwidth=0.8)\n",
    "plt.xlabel(\"Price Per Square Feet\")\n",
    "plt.ylabel(\"Count\")"
   ]
  },
  {
   "cell_type": "markdown",
   "id": "19f6f44b",
   "metadata": {
    "papermill": {
     "duration": 0.032026,
     "end_time": "2023-12-23T06:57:05.166223",
     "exception": false,
     "start_time": "2023-12-23T06:57:05.134197",
     "status": "completed"
    },
    "tags": []
   },
   "source": [
    "we can see that our price per sq feet is normally distributed now"
   ]
  },
  {
   "cell_type": "markdown",
   "id": "6e577d26",
   "metadata": {
    "papermill": {
     "duration": 0.033195,
     "end_time": "2023-12-23T06:57:05.231674",
     "exception": false,
     "start_time": "2023-12-23T06:57:05.198479",
     "status": "completed"
    },
    "tags": []
   },
   "source": [
    "4. Outliers removal for bathrooms "
   ]
  },
  {
   "cell_type": "code",
   "execution_count": 33,
   "id": "af05a5b1",
   "metadata": {
    "execution": {
     "iopub.execute_input": "2023-12-23T06:57:05.299619Z",
     "iopub.status.busy": "2023-12-23T06:57:05.298936Z",
     "iopub.status.idle": "2023-12-23T06:57:05.306878Z",
     "shell.execute_reply": "2023-12-23T06:57:05.305705Z"
    },
    "papermill": {
     "duration": 0.044426,
     "end_time": "2023-12-23T06:57:05.309156",
     "exception": false,
     "start_time": "2023-12-23T06:57:05.264730",
     "status": "completed"
    },
    "tags": []
   },
   "outputs": [
    {
     "data": {
      "text/plain": [
       "array([ 2.,  3.,  4.,  5.,  8.,  1.,  6., 14.,  7.,  9., 12., 16., 13.])"
      ]
     },
     "execution_count": 33,
     "metadata": {},
     "output_type": "execute_result"
    }
   ],
   "source": [
    "df9.bath.unique()"
   ]
  },
  {
   "cell_type": "markdown",
   "id": "80038f43",
   "metadata": {
    "papermill": {
     "duration": 0.032224,
     "end_time": "2023-12-23T06:57:05.374014",
     "exception": false,
     "start_time": "2023-12-23T06:57:05.341790",
     "status": "completed"
    },
    "tags": []
   },
   "source": [
    "we can see clearly that bath columns also contains higher values like 16 and 13 which is clearly some outliers"
   ]
  },
  {
   "cell_type": "markdown",
   "id": "81561bf6",
   "metadata": {
    "papermill": {
     "duration": 0.034596,
     "end_time": "2023-12-23T06:57:05.442114",
     "exception": false,
     "start_time": "2023-12-23T06:57:05.407518",
     "status": "completed"
    },
    "tags": []
   },
   "source": [
    "Suppose It is unusual to have 2 more bathrooms than number of bedrooms in a home"
   ]
  },
  {
   "cell_type": "code",
   "execution_count": 34,
   "id": "76e6cbd2",
   "metadata": {
    "execution": {
     "iopub.execute_input": "2023-12-23T06:57:05.512519Z",
     "iopub.status.busy": "2023-12-23T06:57:05.511869Z",
     "iopub.status.idle": "2023-12-23T06:57:05.529128Z",
     "shell.execute_reply": "2023-12-23T06:57:05.527914Z"
    },
    "papermill": {
     "duration": 0.055921,
     "end_time": "2023-12-23T06:57:05.531482",
     "exception": false,
     "start_time": "2023-12-23T06:57:05.475561",
     "status": "completed"
    },
    "tags": []
   },
   "outputs": [
    {
     "data": {
      "text/html": [
       "<div>\n",
       "<style scoped>\n",
       "    .dataframe tbody tr th:only-of-type {\n",
       "        vertical-align: middle;\n",
       "    }\n",
       "\n",
       "    .dataframe tbody tr th {\n",
       "        vertical-align: top;\n",
       "    }\n",
       "\n",
       "    .dataframe thead th {\n",
       "        text-align: right;\n",
       "    }\n",
       "</style>\n",
       "<table border=\"1\" class=\"dataframe\">\n",
       "  <thead>\n",
       "    <tr style=\"text-align: right;\">\n",
       "      <th></th>\n",
       "      <th>area_type</th>\n",
       "      <th>location</th>\n",
       "      <th>total_sqft</th>\n",
       "      <th>bath</th>\n",
       "      <th>price</th>\n",
       "      <th>BHK</th>\n",
       "      <th>price_per_sqft</th>\n",
       "    </tr>\n",
       "  </thead>\n",
       "  <tbody>\n",
       "    <tr>\n",
       "      <th>597</th>\n",
       "      <td>Plot  Area</td>\n",
       "      <td>BTM 1st Stage</td>\n",
       "      <td>3300.0</td>\n",
       "      <td>14.0</td>\n",
       "      <td>500.0</td>\n",
       "      <td>9</td>\n",
       "      <td>15151.515152</td>\n",
       "    </tr>\n",
       "    <tr>\n",
       "      <th>1653</th>\n",
       "      <td>Built-up  Area</td>\n",
       "      <td>Chikkabanavar</td>\n",
       "      <td>2460.0</td>\n",
       "      <td>7.0</td>\n",
       "      <td>80.0</td>\n",
       "      <td>4</td>\n",
       "      <td>3252.032520</td>\n",
       "    </tr>\n",
       "    <tr>\n",
       "      <th>5299</th>\n",
       "      <td>Built-up  Area</td>\n",
       "      <td>Nagasandra</td>\n",
       "      <td>7000.0</td>\n",
       "      <td>8.0</td>\n",
       "      <td>450.0</td>\n",
       "      <td>4</td>\n",
       "      <td>6428.571429</td>\n",
       "    </tr>\n",
       "    <tr>\n",
       "      <th>6776</th>\n",
       "      <td>Super built-up  Area</td>\n",
       "      <td>Thanisandra</td>\n",
       "      <td>1806.0</td>\n",
       "      <td>6.0</td>\n",
       "      <td>116.0</td>\n",
       "      <td>3</td>\n",
       "      <td>6423.034330</td>\n",
       "    </tr>\n",
       "    <tr>\n",
       "      <th>8465</th>\n",
       "      <td>Super built-up  Area</td>\n",
       "      <td>other</td>\n",
       "      <td>11338.0</td>\n",
       "      <td>9.0</td>\n",
       "      <td>1000.0</td>\n",
       "      <td>6</td>\n",
       "      <td>8819.897689</td>\n",
       "    </tr>\n",
       "  </tbody>\n",
       "</table>\n",
       "</div>"
      ],
      "text/plain": [
       "                 area_type       location  total_sqft  bath   price  BHK  \\\n",
       "597             Plot  Area  BTM 1st Stage      3300.0  14.0   500.0    9   \n",
       "1653        Built-up  Area  Chikkabanavar      2460.0   7.0    80.0    4   \n",
       "5299        Built-up  Area     Nagasandra      7000.0   8.0   450.0    4   \n",
       "6776  Super built-up  Area    Thanisandra      1806.0   6.0   116.0    3   \n",
       "8465  Super built-up  Area          other     11338.0   9.0  1000.0    6   \n",
       "\n",
       "      price_per_sqft  \n",
       "597     15151.515152  \n",
       "1653     3252.032520  \n",
       "5299     6428.571429  \n",
       "6776     6423.034330  \n",
       "8465     8819.897689  "
      ]
     },
     "execution_count": 34,
     "metadata": {},
     "output_type": "execute_result"
    }
   ],
   "source": [
    "df9[df9[\"bath\"]>df9[\"BHK\"]+2]"
   ]
  },
  {
   "cell_type": "markdown",
   "id": "f5e808be",
   "metadata": {
    "papermill": {
     "duration": 0.03289,
     "end_time": "2023-12-23T06:57:05.597238",
     "exception": false,
     "start_time": "2023-12-23T06:57:05.564348",
     "status": "completed"
    },
    "tags": []
   },
   "source": [
    "we can see above all are outliers as bathrooms are greater than bhk+2"
   ]
  },
  {
   "cell_type": "code",
   "execution_count": 35,
   "id": "129af5d5",
   "metadata": {
    "execution": {
     "iopub.execute_input": "2023-12-23T06:57:05.665157Z",
     "iopub.status.busy": "2023-12-23T06:57:05.664770Z",
     "iopub.status.idle": "2023-12-23T06:57:05.674384Z",
     "shell.execute_reply": "2023-12-23T06:57:05.673136Z"
    },
    "papermill": {
     "duration": 0.047139,
     "end_time": "2023-12-23T06:57:05.677129",
     "exception": false,
     "start_time": "2023-12-23T06:57:05.629990",
     "status": "completed"
    },
    "tags": []
   },
   "outputs": [
    {
     "data": {
      "text/plain": [
       "(7302, 7)"
      ]
     },
     "execution_count": 35,
     "metadata": {},
     "output_type": "execute_result"
    }
   ],
   "source": [
    "df10=df9[df9[\"bath\"]<df9[\"BHK\"]+2]\n",
    "df10.shape"
   ]
  },
  {
   "cell_type": "code",
   "execution_count": 36,
   "id": "567b4219",
   "metadata": {
    "execution": {
     "iopub.execute_input": "2023-12-23T06:57:05.746752Z",
     "iopub.status.busy": "2023-12-23T06:57:05.746342Z",
     "iopub.status.idle": "2023-12-23T06:57:05.762640Z",
     "shell.execute_reply": "2023-12-23T06:57:05.761490Z"
    },
    "papermill": {
     "duration": 0.053891,
     "end_time": "2023-12-23T06:57:05.765061",
     "exception": false,
     "start_time": "2023-12-23T06:57:05.711170",
     "status": "completed"
    },
    "tags": []
   },
   "outputs": [
    {
     "data": {
      "text/html": [
       "<div>\n",
       "<style scoped>\n",
       "    .dataframe tbody tr th:only-of-type {\n",
       "        vertical-align: middle;\n",
       "    }\n",
       "\n",
       "    .dataframe tbody tr th {\n",
       "        vertical-align: top;\n",
       "    }\n",
       "\n",
       "    .dataframe thead th {\n",
       "        text-align: right;\n",
       "    }\n",
       "</style>\n",
       "<table border=\"1\" class=\"dataframe\">\n",
       "  <thead>\n",
       "    <tr style=\"text-align: right;\">\n",
       "      <th></th>\n",
       "      <th>area_type</th>\n",
       "      <th>location</th>\n",
       "      <th>total_sqft</th>\n",
       "      <th>bath</th>\n",
       "      <th>price</th>\n",
       "      <th>BHK</th>\n",
       "      <th>price_per_sqft</th>\n",
       "    </tr>\n",
       "  </thead>\n",
       "  <tbody>\n",
       "    <tr>\n",
       "      <th>1</th>\n",
       "      <td>Super built-up  Area</td>\n",
       "      <td>Devarachikkanahalli</td>\n",
       "      <td>1250.0</td>\n",
       "      <td>2.0</td>\n",
       "      <td>40.0</td>\n",
       "      <td>2</td>\n",
       "      <td>3200.000000</td>\n",
       "    </tr>\n",
       "    <tr>\n",
       "      <th>2</th>\n",
       "      <td>Plot  Area</td>\n",
       "      <td>Devarachikkanahalli</td>\n",
       "      <td>1200.0</td>\n",
       "      <td>2.0</td>\n",
       "      <td>83.0</td>\n",
       "      <td>2</td>\n",
       "      <td>6916.666667</td>\n",
       "    </tr>\n",
       "    <tr>\n",
       "      <th>3</th>\n",
       "      <td>Super built-up  Area</td>\n",
       "      <td>Devarachikkanahalli</td>\n",
       "      <td>1170.0</td>\n",
       "      <td>2.0</td>\n",
       "      <td>40.0</td>\n",
       "      <td>2</td>\n",
       "      <td>3418.803419</td>\n",
       "    </tr>\n",
       "    <tr>\n",
       "      <th>4</th>\n",
       "      <td>Super built-up  Area</td>\n",
       "      <td>Devarachikkanahalli</td>\n",
       "      <td>1425.0</td>\n",
       "      <td>2.0</td>\n",
       "      <td>65.0</td>\n",
       "      <td>3</td>\n",
       "      <td>4561.403509</td>\n",
       "    </tr>\n",
       "    <tr>\n",
       "      <th>5</th>\n",
       "      <td>Super built-up  Area</td>\n",
       "      <td>Devarachikkanahalli</td>\n",
       "      <td>947.0</td>\n",
       "      <td>2.0</td>\n",
       "      <td>43.0</td>\n",
       "      <td>2</td>\n",
       "      <td>4540.654699</td>\n",
       "    </tr>\n",
       "  </tbody>\n",
       "</table>\n",
       "</div>"
      ],
      "text/plain": [
       "              area_type              location  total_sqft  bath  price  BHK  \\\n",
       "1  Super built-up  Area   Devarachikkanahalli      1250.0   2.0   40.0    2   \n",
       "2            Plot  Area   Devarachikkanahalli      1200.0   2.0   83.0    2   \n",
       "3  Super built-up  Area   Devarachikkanahalli      1170.0   2.0   40.0    2   \n",
       "4  Super built-up  Area   Devarachikkanahalli      1425.0   2.0   65.0    3   \n",
       "5  Super built-up  Area   Devarachikkanahalli       947.0   2.0   43.0    2   \n",
       "\n",
       "   price_per_sqft  \n",
       "1     3200.000000  \n",
       "2     6916.666667  \n",
       "3     3418.803419  \n",
       "4     4561.403509  \n",
       "5     4540.654699  "
      ]
     },
     "execution_count": 36,
     "metadata": {},
     "output_type": "execute_result"
    }
   ],
   "source": [
    "df10.head()"
   ]
  },
  {
   "cell_type": "code",
   "execution_count": 37,
   "id": "a5279314",
   "metadata": {
    "execution": {
     "iopub.execute_input": "2023-12-23T06:57:05.834824Z",
     "iopub.status.busy": "2023-12-23T06:57:05.834157Z",
     "iopub.status.idle": "2023-12-23T06:57:05.844859Z",
     "shell.execute_reply": "2023-12-23T06:57:05.843544Z"
    },
    "papermill": {
     "duration": 0.048361,
     "end_time": "2023-12-23T06:57:05.847569",
     "exception": false,
     "start_time": "2023-12-23T06:57:05.799208",
     "status": "completed"
    },
    "tags": []
   },
   "outputs": [
    {
     "data": {
      "text/plain": [
       "area_type\n",
       "Super built-up  Area    5322\n",
       "Built-up  Area          1323\n",
       "Plot  Area               614\n",
       "Carpet  Area              43\n",
       "Name: count, dtype: int64"
      ]
     },
     "execution_count": 37,
     "metadata": {},
     "output_type": "execute_result"
    }
   ],
   "source": [
    "df10.area_type.value_counts()"
   ]
  },
  {
   "cell_type": "code",
   "execution_count": 38,
   "id": "293c7f57",
   "metadata": {
    "execution": {
     "iopub.execute_input": "2023-12-23T06:57:05.917255Z",
     "iopub.status.busy": "2023-12-23T06:57:05.916846Z",
     "iopub.status.idle": "2023-12-23T06:57:05.923853Z",
     "shell.execute_reply": "2023-12-23T06:57:05.922756Z"
    },
    "papermill": {
     "duration": 0.045107,
     "end_time": "2023-12-23T06:57:05.926466",
     "exception": false,
     "start_time": "2023-12-23T06:57:05.881359",
     "status": "completed"
    },
    "tags": []
   },
   "outputs": [
    {
     "name": "stderr",
     "output_type": "stream",
     "text": [
      "/tmp/ipykernel_19/480199348.py:1: SettingWithCopyWarning: \n",
      "A value is trying to be set on a copy of a slice from a DataFrame\n",
      "\n",
      "See the caveats in the documentation: https://pandas.pydata.org/pandas-docs/stable/user_guide/indexing.html#returning-a-view-versus-a-copy\n",
      "  df10.drop([\"price_per_sqft\"],axis=\"columns\",inplace=True)\n"
     ]
    }
   ],
   "source": [
    "df10.drop([\"price_per_sqft\"],axis=\"columns\",inplace=True)\n"
   ]
  },
  {
   "cell_type": "code",
   "execution_count": 39,
   "id": "f1796c5d",
   "metadata": {
    "execution": {
     "iopub.execute_input": "2023-12-23T06:57:05.996477Z",
     "iopub.status.busy": "2023-12-23T06:57:05.996067Z",
     "iopub.status.idle": "2023-12-23T06:57:06.010740Z",
     "shell.execute_reply": "2023-12-23T06:57:06.009637Z"
    },
    "papermill": {
     "duration": 0.052836,
     "end_time": "2023-12-23T06:57:06.013037",
     "exception": false,
     "start_time": "2023-12-23T06:57:05.960201",
     "status": "completed"
    },
    "tags": []
   },
   "outputs": [
    {
     "data": {
      "text/html": [
       "<div>\n",
       "<style scoped>\n",
       "    .dataframe tbody tr th:only-of-type {\n",
       "        vertical-align: middle;\n",
       "    }\n",
       "\n",
       "    .dataframe tbody tr th {\n",
       "        vertical-align: top;\n",
       "    }\n",
       "\n",
       "    .dataframe thead th {\n",
       "        text-align: right;\n",
       "    }\n",
       "</style>\n",
       "<table border=\"1\" class=\"dataframe\">\n",
       "  <thead>\n",
       "    <tr style=\"text-align: right;\">\n",
       "      <th></th>\n",
       "      <th>area_type</th>\n",
       "      <th>location</th>\n",
       "      <th>total_sqft</th>\n",
       "      <th>bath</th>\n",
       "      <th>price</th>\n",
       "      <th>BHK</th>\n",
       "    </tr>\n",
       "  </thead>\n",
       "  <tbody>\n",
       "    <tr>\n",
       "      <th>1</th>\n",
       "      <td>Super built-up  Area</td>\n",
       "      <td>Devarachikkanahalli</td>\n",
       "      <td>1250.0</td>\n",
       "      <td>2.0</td>\n",
       "      <td>40.0</td>\n",
       "      <td>2</td>\n",
       "    </tr>\n",
       "    <tr>\n",
       "      <th>2</th>\n",
       "      <td>Plot  Area</td>\n",
       "      <td>Devarachikkanahalli</td>\n",
       "      <td>1200.0</td>\n",
       "      <td>2.0</td>\n",
       "      <td>83.0</td>\n",
       "      <td>2</td>\n",
       "    </tr>\n",
       "    <tr>\n",
       "      <th>3</th>\n",
       "      <td>Super built-up  Area</td>\n",
       "      <td>Devarachikkanahalli</td>\n",
       "      <td>1170.0</td>\n",
       "      <td>2.0</td>\n",
       "      <td>40.0</td>\n",
       "      <td>2</td>\n",
       "    </tr>\n",
       "    <tr>\n",
       "      <th>4</th>\n",
       "      <td>Super built-up  Area</td>\n",
       "      <td>Devarachikkanahalli</td>\n",
       "      <td>1425.0</td>\n",
       "      <td>2.0</td>\n",
       "      <td>65.0</td>\n",
       "      <td>3</td>\n",
       "    </tr>\n",
       "    <tr>\n",
       "      <th>5</th>\n",
       "      <td>Super built-up  Area</td>\n",
       "      <td>Devarachikkanahalli</td>\n",
       "      <td>947.0</td>\n",
       "      <td>2.0</td>\n",
       "      <td>43.0</td>\n",
       "      <td>2</td>\n",
       "    </tr>\n",
       "  </tbody>\n",
       "</table>\n",
       "</div>"
      ],
      "text/plain": [
       "              area_type              location  total_sqft  bath  price  BHK\n",
       "1  Super built-up  Area   Devarachikkanahalli      1250.0   2.0   40.0    2\n",
       "2            Plot  Area   Devarachikkanahalli      1200.0   2.0   83.0    2\n",
       "3  Super built-up  Area   Devarachikkanahalli      1170.0   2.0   40.0    2\n",
       "4  Super built-up  Area   Devarachikkanahalli      1425.0   2.0   65.0    3\n",
       "5  Super built-up  Area   Devarachikkanahalli       947.0   2.0   43.0    2"
      ]
     },
     "execution_count": 39,
     "metadata": {},
     "output_type": "execute_result"
    }
   ],
   "source": [
    "df10.head()"
   ]
  },
  {
   "cell_type": "markdown",
   "id": "17355802",
   "metadata": {
    "papermill": {
     "duration": 0.034216,
     "end_time": "2023-12-23T06:57:06.081655",
     "exception": false,
     "start_time": "2023-12-23T06:57:06.047439",
     "status": "completed"
    },
    "tags": []
   },
   "source": [
    "now we need to use one hot encoding to convert area_type column and location column"
   ]
  },
  {
   "cell_type": "code",
   "execution_count": 40,
   "id": "59c9b2d7",
   "metadata": {
    "execution": {
     "iopub.execute_input": "2023-12-23T06:57:06.152515Z",
     "iopub.status.busy": "2023-12-23T06:57:06.152098Z",
     "iopub.status.idle": "2023-12-23T06:57:06.169602Z",
     "shell.execute_reply": "2023-12-23T06:57:06.168474Z"
    },
    "papermill": {
     "duration": 0.056243,
     "end_time": "2023-12-23T06:57:06.172185",
     "exception": false,
     "start_time": "2023-12-23T06:57:06.115942",
     "status": "completed"
    },
    "tags": []
   },
   "outputs": [
    {
     "data": {
      "text/html": [
       "<div>\n",
       "<style scoped>\n",
       "    .dataframe tbody tr th:only-of-type {\n",
       "        vertical-align: middle;\n",
       "    }\n",
       "\n",
       "    .dataframe tbody tr th {\n",
       "        vertical-align: top;\n",
       "    }\n",
       "\n",
       "    .dataframe thead th {\n",
       "        text-align: right;\n",
       "    }\n",
       "</style>\n",
       "<table border=\"1\" class=\"dataframe\">\n",
       "  <thead>\n",
       "    <tr style=\"text-align: right;\">\n",
       "      <th></th>\n",
       "      <th>Built-up  Area</th>\n",
       "      <th>Plot  Area</th>\n",
       "      <th>Super built-up  Area</th>\n",
       "    </tr>\n",
       "  </thead>\n",
       "  <tbody>\n",
       "    <tr>\n",
       "      <th>1</th>\n",
       "      <td>0</td>\n",
       "      <td>0</td>\n",
       "      <td>1</td>\n",
       "    </tr>\n",
       "    <tr>\n",
       "      <th>2</th>\n",
       "      <td>0</td>\n",
       "      <td>1</td>\n",
       "      <td>0</td>\n",
       "    </tr>\n",
       "    <tr>\n",
       "      <th>3</th>\n",
       "      <td>0</td>\n",
       "      <td>0</td>\n",
       "      <td>1</td>\n",
       "    </tr>\n",
       "    <tr>\n",
       "      <th>4</th>\n",
       "      <td>0</td>\n",
       "      <td>0</td>\n",
       "      <td>1</td>\n",
       "    </tr>\n",
       "    <tr>\n",
       "      <th>5</th>\n",
       "      <td>0</td>\n",
       "      <td>0</td>\n",
       "      <td>1</td>\n",
       "    </tr>\n",
       "    <tr>\n",
       "      <th>...</th>\n",
       "      <td>...</td>\n",
       "      <td>...</td>\n",
       "      <td>...</td>\n",
       "    </tr>\n",
       "    <tr>\n",
       "      <th>10217</th>\n",
       "      <td>0</td>\n",
       "      <td>0</td>\n",
       "      <td>0</td>\n",
       "    </tr>\n",
       "    <tr>\n",
       "      <th>10218</th>\n",
       "      <td>0</td>\n",
       "      <td>0</td>\n",
       "      <td>1</td>\n",
       "    </tr>\n",
       "    <tr>\n",
       "      <th>10221</th>\n",
       "      <td>0</td>\n",
       "      <td>0</td>\n",
       "      <td>1</td>\n",
       "    </tr>\n",
       "    <tr>\n",
       "      <th>10222</th>\n",
       "      <td>0</td>\n",
       "      <td>1</td>\n",
       "      <td>0</td>\n",
       "    </tr>\n",
       "    <tr>\n",
       "      <th>10225</th>\n",
       "      <td>0</td>\n",
       "      <td>0</td>\n",
       "      <td>1</td>\n",
       "    </tr>\n",
       "  </tbody>\n",
       "</table>\n",
       "<p>7302 rows × 3 columns</p>\n",
       "</div>"
      ],
      "text/plain": [
       "       Built-up  Area  Plot  Area  Super built-up  Area\n",
       "1                   0           0                     1\n",
       "2                   0           1                     0\n",
       "3                   0           0                     1\n",
       "4                   0           0                     1\n",
       "5                   0           0                     1\n",
       "...               ...         ...                   ...\n",
       "10217               0           0                     0\n",
       "10218               0           0                     1\n",
       "10221               0           0                     1\n",
       "10222               0           1                     0\n",
       "10225               0           0                     1\n",
       "\n",
       "[7302 rows x 3 columns]"
      ]
     },
     "execution_count": 40,
     "metadata": {},
     "output_type": "execute_result"
    }
   ],
   "source": [
    "dummies1=pd.get_dummies(df10.area_type,dtype=int)\n",
    "#dummies1.drop(\"Plot Area\",axis=\"columns\")\n",
    "dummies1.columns\n",
    "dummies1.drop('Carpet  Area',axis=\"columns\",inplace=True)\n",
    "dummies1"
   ]
  },
  {
   "cell_type": "code",
   "execution_count": 41,
   "id": "d99f2739",
   "metadata": {
    "execution": {
     "iopub.execute_input": "2023-12-23T06:57:06.246135Z",
     "iopub.status.busy": "2023-12-23T06:57:06.245720Z",
     "iopub.status.idle": "2023-12-23T06:57:06.296550Z",
     "shell.execute_reply": "2023-12-23T06:57:06.294971Z"
    },
    "papermill": {
     "duration": 0.091539,
     "end_time": "2023-12-23T06:57:06.299330",
     "exception": false,
     "start_time": "2023-12-23T06:57:06.207791",
     "status": "completed"
    },
    "tags": []
   },
   "outputs": [
    {
     "data": {
      "text/html": [
       "<div>\n",
       "<style scoped>\n",
       "    .dataframe tbody tr th:only-of-type {\n",
       "        vertical-align: middle;\n",
       "    }\n",
       "\n",
       "    .dataframe tbody tr th {\n",
       "        vertical-align: top;\n",
       "    }\n",
       "\n",
       "    .dataframe thead th {\n",
       "        text-align: right;\n",
       "    }\n",
       "</style>\n",
       "<table border=\"1\" class=\"dataframe\">\n",
       "  <thead>\n",
       "    <tr style=\"text-align: right;\">\n",
       "      <th></th>\n",
       "      <th>Devarachikkanahalli</th>\n",
       "      <th>1st Block Jayanagar</th>\n",
       "      <th>1st Block Koramangala</th>\n",
       "      <th>1st Phase JP Nagar</th>\n",
       "      <th>2nd Phase Judicial Layout</th>\n",
       "      <th>2nd Stage Nagarbhavi</th>\n",
       "      <th>5th Block Hbr Layout</th>\n",
       "      <th>5th Phase JP Nagar</th>\n",
       "      <th>6th Phase JP Nagar</th>\n",
       "      <th>7th Phase JP Nagar</th>\n",
       "      <th>...</th>\n",
       "      <th>Vijayanagar</th>\n",
       "      <th>Vishveshwarya Layout</th>\n",
       "      <th>Vishwapriya Layout</th>\n",
       "      <th>Vittasandra</th>\n",
       "      <th>Whitefield</th>\n",
       "      <th>Yelachenahalli</th>\n",
       "      <th>Yelahanka</th>\n",
       "      <th>Yelahanka New Town</th>\n",
       "      <th>Yelenahalli</th>\n",
       "      <th>Yeshwanthpur</th>\n",
       "    </tr>\n",
       "  </thead>\n",
       "  <tbody>\n",
       "    <tr>\n",
       "      <th>1</th>\n",
       "      <td>1</td>\n",
       "      <td>0</td>\n",
       "      <td>0</td>\n",
       "      <td>0</td>\n",
       "      <td>0</td>\n",
       "      <td>0</td>\n",
       "      <td>0</td>\n",
       "      <td>0</td>\n",
       "      <td>0</td>\n",
       "      <td>0</td>\n",
       "      <td>...</td>\n",
       "      <td>0</td>\n",
       "      <td>0</td>\n",
       "      <td>0</td>\n",
       "      <td>0</td>\n",
       "      <td>0</td>\n",
       "      <td>0</td>\n",
       "      <td>0</td>\n",
       "      <td>0</td>\n",
       "      <td>0</td>\n",
       "      <td>0</td>\n",
       "    </tr>\n",
       "    <tr>\n",
       "      <th>2</th>\n",
       "      <td>1</td>\n",
       "      <td>0</td>\n",
       "      <td>0</td>\n",
       "      <td>0</td>\n",
       "      <td>0</td>\n",
       "      <td>0</td>\n",
       "      <td>0</td>\n",
       "      <td>0</td>\n",
       "      <td>0</td>\n",
       "      <td>0</td>\n",
       "      <td>...</td>\n",
       "      <td>0</td>\n",
       "      <td>0</td>\n",
       "      <td>0</td>\n",
       "      <td>0</td>\n",
       "      <td>0</td>\n",
       "      <td>0</td>\n",
       "      <td>0</td>\n",
       "      <td>0</td>\n",
       "      <td>0</td>\n",
       "      <td>0</td>\n",
       "    </tr>\n",
       "    <tr>\n",
       "      <th>3</th>\n",
       "      <td>1</td>\n",
       "      <td>0</td>\n",
       "      <td>0</td>\n",
       "      <td>0</td>\n",
       "      <td>0</td>\n",
       "      <td>0</td>\n",
       "      <td>0</td>\n",
       "      <td>0</td>\n",
       "      <td>0</td>\n",
       "      <td>0</td>\n",
       "      <td>...</td>\n",
       "      <td>0</td>\n",
       "      <td>0</td>\n",
       "      <td>0</td>\n",
       "      <td>0</td>\n",
       "      <td>0</td>\n",
       "      <td>0</td>\n",
       "      <td>0</td>\n",
       "      <td>0</td>\n",
       "      <td>0</td>\n",
       "      <td>0</td>\n",
       "    </tr>\n",
       "    <tr>\n",
       "      <th>4</th>\n",
       "      <td>1</td>\n",
       "      <td>0</td>\n",
       "      <td>0</td>\n",
       "      <td>0</td>\n",
       "      <td>0</td>\n",
       "      <td>0</td>\n",
       "      <td>0</td>\n",
       "      <td>0</td>\n",
       "      <td>0</td>\n",
       "      <td>0</td>\n",
       "      <td>...</td>\n",
       "      <td>0</td>\n",
       "      <td>0</td>\n",
       "      <td>0</td>\n",
       "      <td>0</td>\n",
       "      <td>0</td>\n",
       "      <td>0</td>\n",
       "      <td>0</td>\n",
       "      <td>0</td>\n",
       "      <td>0</td>\n",
       "      <td>0</td>\n",
       "    </tr>\n",
       "    <tr>\n",
       "      <th>5</th>\n",
       "      <td>1</td>\n",
       "      <td>0</td>\n",
       "      <td>0</td>\n",
       "      <td>0</td>\n",
       "      <td>0</td>\n",
       "      <td>0</td>\n",
       "      <td>0</td>\n",
       "      <td>0</td>\n",
       "      <td>0</td>\n",
       "      <td>0</td>\n",
       "      <td>...</td>\n",
       "      <td>0</td>\n",
       "      <td>0</td>\n",
       "      <td>0</td>\n",
       "      <td>0</td>\n",
       "      <td>0</td>\n",
       "      <td>0</td>\n",
       "      <td>0</td>\n",
       "      <td>0</td>\n",
       "      <td>0</td>\n",
       "      <td>0</td>\n",
       "    </tr>\n",
       "    <tr>\n",
       "      <th>...</th>\n",
       "      <td>...</td>\n",
       "      <td>...</td>\n",
       "      <td>...</td>\n",
       "      <td>...</td>\n",
       "      <td>...</td>\n",
       "      <td>...</td>\n",
       "      <td>...</td>\n",
       "      <td>...</td>\n",
       "      <td>...</td>\n",
       "      <td>...</td>\n",
       "      <td>...</td>\n",
       "      <td>...</td>\n",
       "      <td>...</td>\n",
       "      <td>...</td>\n",
       "      <td>...</td>\n",
       "      <td>...</td>\n",
       "      <td>...</td>\n",
       "      <td>...</td>\n",
       "      <td>...</td>\n",
       "      <td>...</td>\n",
       "      <td>...</td>\n",
       "    </tr>\n",
       "    <tr>\n",
       "      <th>10217</th>\n",
       "      <td>0</td>\n",
       "      <td>0</td>\n",
       "      <td>0</td>\n",
       "      <td>0</td>\n",
       "      <td>0</td>\n",
       "      <td>0</td>\n",
       "      <td>0</td>\n",
       "      <td>0</td>\n",
       "      <td>0</td>\n",
       "      <td>0</td>\n",
       "      <td>...</td>\n",
       "      <td>0</td>\n",
       "      <td>0</td>\n",
       "      <td>0</td>\n",
       "      <td>0</td>\n",
       "      <td>0</td>\n",
       "      <td>0</td>\n",
       "      <td>0</td>\n",
       "      <td>0</td>\n",
       "      <td>0</td>\n",
       "      <td>0</td>\n",
       "    </tr>\n",
       "    <tr>\n",
       "      <th>10218</th>\n",
       "      <td>0</td>\n",
       "      <td>0</td>\n",
       "      <td>0</td>\n",
       "      <td>0</td>\n",
       "      <td>0</td>\n",
       "      <td>0</td>\n",
       "      <td>0</td>\n",
       "      <td>0</td>\n",
       "      <td>0</td>\n",
       "      <td>0</td>\n",
       "      <td>...</td>\n",
       "      <td>0</td>\n",
       "      <td>0</td>\n",
       "      <td>0</td>\n",
       "      <td>0</td>\n",
       "      <td>0</td>\n",
       "      <td>0</td>\n",
       "      <td>0</td>\n",
       "      <td>0</td>\n",
       "      <td>0</td>\n",
       "      <td>0</td>\n",
       "    </tr>\n",
       "    <tr>\n",
       "      <th>10221</th>\n",
       "      <td>0</td>\n",
       "      <td>0</td>\n",
       "      <td>0</td>\n",
       "      <td>0</td>\n",
       "      <td>0</td>\n",
       "      <td>0</td>\n",
       "      <td>0</td>\n",
       "      <td>0</td>\n",
       "      <td>0</td>\n",
       "      <td>0</td>\n",
       "      <td>...</td>\n",
       "      <td>0</td>\n",
       "      <td>0</td>\n",
       "      <td>0</td>\n",
       "      <td>0</td>\n",
       "      <td>0</td>\n",
       "      <td>0</td>\n",
       "      <td>0</td>\n",
       "      <td>0</td>\n",
       "      <td>0</td>\n",
       "      <td>0</td>\n",
       "    </tr>\n",
       "    <tr>\n",
       "      <th>10222</th>\n",
       "      <td>0</td>\n",
       "      <td>0</td>\n",
       "      <td>0</td>\n",
       "      <td>0</td>\n",
       "      <td>0</td>\n",
       "      <td>0</td>\n",
       "      <td>0</td>\n",
       "      <td>0</td>\n",
       "      <td>0</td>\n",
       "      <td>0</td>\n",
       "      <td>...</td>\n",
       "      <td>0</td>\n",
       "      <td>0</td>\n",
       "      <td>0</td>\n",
       "      <td>0</td>\n",
       "      <td>0</td>\n",
       "      <td>0</td>\n",
       "      <td>0</td>\n",
       "      <td>0</td>\n",
       "      <td>0</td>\n",
       "      <td>0</td>\n",
       "    </tr>\n",
       "    <tr>\n",
       "      <th>10225</th>\n",
       "      <td>0</td>\n",
       "      <td>0</td>\n",
       "      <td>0</td>\n",
       "      <td>0</td>\n",
       "      <td>0</td>\n",
       "      <td>0</td>\n",
       "      <td>0</td>\n",
       "      <td>0</td>\n",
       "      <td>0</td>\n",
       "      <td>0</td>\n",
       "      <td>...</td>\n",
       "      <td>0</td>\n",
       "      <td>0</td>\n",
       "      <td>0</td>\n",
       "      <td>0</td>\n",
       "      <td>0</td>\n",
       "      <td>0</td>\n",
       "      <td>0</td>\n",
       "      <td>0</td>\n",
       "      <td>0</td>\n",
       "      <td>0</td>\n",
       "    </tr>\n",
       "  </tbody>\n",
       "</table>\n",
       "<p>7302 rows × 253 columns</p>\n",
       "</div>"
      ],
      "text/plain": [
       "        Devarachikkanahalli  1st Block Jayanagar  1st Block Koramangala  \\\n",
       "1                         1                    0                      0   \n",
       "2                         1                    0                      0   \n",
       "3                         1                    0                      0   \n",
       "4                         1                    0                      0   \n",
       "5                         1                    0                      0   \n",
       "...                     ...                  ...                    ...   \n",
       "10217                     0                    0                      0   \n",
       "10218                     0                    0                      0   \n",
       "10221                     0                    0                      0   \n",
       "10222                     0                    0                      0   \n",
       "10225                     0                    0                      0   \n",
       "\n",
       "       1st Phase JP Nagar  2nd Phase Judicial Layout  2nd Stage Nagarbhavi  \\\n",
       "1                       0                          0                     0   \n",
       "2                       0                          0                     0   \n",
       "3                       0                          0                     0   \n",
       "4                       0                          0                     0   \n",
       "5                       0                          0                     0   \n",
       "...                   ...                        ...                   ...   \n",
       "10217                   0                          0                     0   \n",
       "10218                   0                          0                     0   \n",
       "10221                   0                          0                     0   \n",
       "10222                   0                          0                     0   \n",
       "10225                   0                          0                     0   \n",
       "\n",
       "       5th Block Hbr Layout  5th Phase JP Nagar  6th Phase JP Nagar  \\\n",
       "1                         0                   0                   0   \n",
       "2                         0                   0                   0   \n",
       "3                         0                   0                   0   \n",
       "4                         0                   0                   0   \n",
       "5                         0                   0                   0   \n",
       "...                     ...                 ...                 ...   \n",
       "10217                     0                   0                   0   \n",
       "10218                     0                   0                   0   \n",
       "10221                     0                   0                   0   \n",
       "10222                     0                   0                   0   \n",
       "10225                     0                   0                   0   \n",
       "\n",
       "       7th Phase JP Nagar  ...  Vijayanagar  Vishveshwarya Layout  \\\n",
       "1                       0  ...            0                     0   \n",
       "2                       0  ...            0                     0   \n",
       "3                       0  ...            0                     0   \n",
       "4                       0  ...            0                     0   \n",
       "5                       0  ...            0                     0   \n",
       "...                   ...  ...          ...                   ...   \n",
       "10217                   0  ...            0                     0   \n",
       "10218                   0  ...            0                     0   \n",
       "10221                   0  ...            0                     0   \n",
       "10222                   0  ...            0                     0   \n",
       "10225                   0  ...            0                     0   \n",
       "\n",
       "       Vishwapriya Layout  Vittasandra  Whitefield  Yelachenahalli  Yelahanka  \\\n",
       "1                       0            0           0               0          0   \n",
       "2                       0            0           0               0          0   \n",
       "3                       0            0           0               0          0   \n",
       "4                       0            0           0               0          0   \n",
       "5                       0            0           0               0          0   \n",
       "...                   ...          ...         ...             ...        ...   \n",
       "10217                   0            0           0               0          0   \n",
       "10218                   0            0           0               0          0   \n",
       "10221                   0            0           0               0          0   \n",
       "10222                   0            0           0               0          0   \n",
       "10225                   0            0           0               0          0   \n",
       "\n",
       "       Yelahanka New Town  Yelenahalli  Yeshwanthpur  \n",
       "1                       0            0             0  \n",
       "2                       0            0             0  \n",
       "3                       0            0             0  \n",
       "4                       0            0             0  \n",
       "5                       0            0             0  \n",
       "...                   ...          ...           ...  \n",
       "10217                   0            0             0  \n",
       "10218                   0            0             0  \n",
       "10221                   0            0             0  \n",
       "10222                   0            0             0  \n",
       "10225                   0            0             0  \n",
       "\n",
       "[7302 rows x 253 columns]"
      ]
     },
     "execution_count": 41,
     "metadata": {},
     "output_type": "execute_result"
    }
   ],
   "source": [
    "dummies2=pd.get_dummies(df10.location,dtype=int)\n",
    "dummies2.drop('other',axis=\"columns\",inplace=True)\n",
    "dummies2"
   ]
  },
  {
   "cell_type": "code",
   "execution_count": 42,
   "id": "89d4047e",
   "metadata": {
    "execution": {
     "iopub.execute_input": "2023-12-23T06:57:06.372229Z",
     "iopub.status.busy": "2023-12-23T06:57:06.371799Z",
     "iopub.status.idle": "2023-12-23T06:57:06.410832Z",
     "shell.execute_reply": "2023-12-23T06:57:06.409691Z"
    },
    "papermill": {
     "duration": 0.07896,
     "end_time": "2023-12-23T06:57:06.413604",
     "exception": false,
     "start_time": "2023-12-23T06:57:06.334644",
     "status": "completed"
    },
    "tags": []
   },
   "outputs": [
    {
     "data": {
      "text/html": [
       "<div>\n",
       "<style scoped>\n",
       "    .dataframe tbody tr th:only-of-type {\n",
       "        vertical-align: middle;\n",
       "    }\n",
       "\n",
       "    .dataframe tbody tr th {\n",
       "        vertical-align: top;\n",
       "    }\n",
       "\n",
       "    .dataframe thead th {\n",
       "        text-align: right;\n",
       "    }\n",
       "</style>\n",
       "<table border=\"1\" class=\"dataframe\">\n",
       "  <thead>\n",
       "    <tr style=\"text-align: right;\">\n",
       "      <th></th>\n",
       "      <th>area_type</th>\n",
       "      <th>location</th>\n",
       "      <th>total_sqft</th>\n",
       "      <th>bath</th>\n",
       "      <th>price</th>\n",
       "      <th>BHK</th>\n",
       "      <th>Built-up  Area</th>\n",
       "      <th>Plot  Area</th>\n",
       "      <th>Super built-up  Area</th>\n",
       "      <th>Devarachikkanahalli</th>\n",
       "      <th>...</th>\n",
       "      <th>Vijayanagar</th>\n",
       "      <th>Vishveshwarya Layout</th>\n",
       "      <th>Vishwapriya Layout</th>\n",
       "      <th>Vittasandra</th>\n",
       "      <th>Whitefield</th>\n",
       "      <th>Yelachenahalli</th>\n",
       "      <th>Yelahanka</th>\n",
       "      <th>Yelahanka New Town</th>\n",
       "      <th>Yelenahalli</th>\n",
       "      <th>Yeshwanthpur</th>\n",
       "    </tr>\n",
       "  </thead>\n",
       "  <tbody>\n",
       "    <tr>\n",
       "      <th>1</th>\n",
       "      <td>Super built-up  Area</td>\n",
       "      <td>Devarachikkanahalli</td>\n",
       "      <td>1250.0</td>\n",
       "      <td>2.0</td>\n",
       "      <td>40.0</td>\n",
       "      <td>2</td>\n",
       "      <td>0</td>\n",
       "      <td>0</td>\n",
       "      <td>1</td>\n",
       "      <td>1</td>\n",
       "      <td>...</td>\n",
       "      <td>0</td>\n",
       "      <td>0</td>\n",
       "      <td>0</td>\n",
       "      <td>0</td>\n",
       "      <td>0</td>\n",
       "      <td>0</td>\n",
       "      <td>0</td>\n",
       "      <td>0</td>\n",
       "      <td>0</td>\n",
       "      <td>0</td>\n",
       "    </tr>\n",
       "    <tr>\n",
       "      <th>2</th>\n",
       "      <td>Plot  Area</td>\n",
       "      <td>Devarachikkanahalli</td>\n",
       "      <td>1200.0</td>\n",
       "      <td>2.0</td>\n",
       "      <td>83.0</td>\n",
       "      <td>2</td>\n",
       "      <td>0</td>\n",
       "      <td>1</td>\n",
       "      <td>0</td>\n",
       "      <td>1</td>\n",
       "      <td>...</td>\n",
       "      <td>0</td>\n",
       "      <td>0</td>\n",
       "      <td>0</td>\n",
       "      <td>0</td>\n",
       "      <td>0</td>\n",
       "      <td>0</td>\n",
       "      <td>0</td>\n",
       "      <td>0</td>\n",
       "      <td>0</td>\n",
       "      <td>0</td>\n",
       "    </tr>\n",
       "    <tr>\n",
       "      <th>3</th>\n",
       "      <td>Super built-up  Area</td>\n",
       "      <td>Devarachikkanahalli</td>\n",
       "      <td>1170.0</td>\n",
       "      <td>2.0</td>\n",
       "      <td>40.0</td>\n",
       "      <td>2</td>\n",
       "      <td>0</td>\n",
       "      <td>0</td>\n",
       "      <td>1</td>\n",
       "      <td>1</td>\n",
       "      <td>...</td>\n",
       "      <td>0</td>\n",
       "      <td>0</td>\n",
       "      <td>0</td>\n",
       "      <td>0</td>\n",
       "      <td>0</td>\n",
       "      <td>0</td>\n",
       "      <td>0</td>\n",
       "      <td>0</td>\n",
       "      <td>0</td>\n",
       "      <td>0</td>\n",
       "    </tr>\n",
       "    <tr>\n",
       "      <th>4</th>\n",
       "      <td>Super built-up  Area</td>\n",
       "      <td>Devarachikkanahalli</td>\n",
       "      <td>1425.0</td>\n",
       "      <td>2.0</td>\n",
       "      <td>65.0</td>\n",
       "      <td>3</td>\n",
       "      <td>0</td>\n",
       "      <td>0</td>\n",
       "      <td>1</td>\n",
       "      <td>1</td>\n",
       "      <td>...</td>\n",
       "      <td>0</td>\n",
       "      <td>0</td>\n",
       "      <td>0</td>\n",
       "      <td>0</td>\n",
       "      <td>0</td>\n",
       "      <td>0</td>\n",
       "      <td>0</td>\n",
       "      <td>0</td>\n",
       "      <td>0</td>\n",
       "      <td>0</td>\n",
       "    </tr>\n",
       "    <tr>\n",
       "      <th>5</th>\n",
       "      <td>Super built-up  Area</td>\n",
       "      <td>Devarachikkanahalli</td>\n",
       "      <td>947.0</td>\n",
       "      <td>2.0</td>\n",
       "      <td>43.0</td>\n",
       "      <td>2</td>\n",
       "      <td>0</td>\n",
       "      <td>0</td>\n",
       "      <td>1</td>\n",
       "      <td>1</td>\n",
       "      <td>...</td>\n",
       "      <td>0</td>\n",
       "      <td>0</td>\n",
       "      <td>0</td>\n",
       "      <td>0</td>\n",
       "      <td>0</td>\n",
       "      <td>0</td>\n",
       "      <td>0</td>\n",
       "      <td>0</td>\n",
       "      <td>0</td>\n",
       "      <td>0</td>\n",
       "    </tr>\n",
       "    <tr>\n",
       "      <th>...</th>\n",
       "      <td>...</td>\n",
       "      <td>...</td>\n",
       "      <td>...</td>\n",
       "      <td>...</td>\n",
       "      <td>...</td>\n",
       "      <td>...</td>\n",
       "      <td>...</td>\n",
       "      <td>...</td>\n",
       "      <td>...</td>\n",
       "      <td>...</td>\n",
       "      <td>...</td>\n",
       "      <td>...</td>\n",
       "      <td>...</td>\n",
       "      <td>...</td>\n",
       "      <td>...</td>\n",
       "      <td>...</td>\n",
       "      <td>...</td>\n",
       "      <td>...</td>\n",
       "      <td>...</td>\n",
       "      <td>...</td>\n",
       "      <td>...</td>\n",
       "    </tr>\n",
       "    <tr>\n",
       "      <th>10217</th>\n",
       "      <td>Carpet  Area</td>\n",
       "      <td>other</td>\n",
       "      <td>1200.0</td>\n",
       "      <td>2.0</td>\n",
       "      <td>70.0</td>\n",
       "      <td>2</td>\n",
       "      <td>0</td>\n",
       "      <td>0</td>\n",
       "      <td>0</td>\n",
       "      <td>0</td>\n",
       "      <td>...</td>\n",
       "      <td>0</td>\n",
       "      <td>0</td>\n",
       "      <td>0</td>\n",
       "      <td>0</td>\n",
       "      <td>0</td>\n",
       "      <td>0</td>\n",
       "      <td>0</td>\n",
       "      <td>0</td>\n",
       "      <td>0</td>\n",
       "      <td>0</td>\n",
       "    </tr>\n",
       "    <tr>\n",
       "      <th>10218</th>\n",
       "      <td>Super built-up  Area</td>\n",
       "      <td>other</td>\n",
       "      <td>1800.0</td>\n",
       "      <td>1.0</td>\n",
       "      <td>200.0</td>\n",
       "      <td>1</td>\n",
       "      <td>0</td>\n",
       "      <td>0</td>\n",
       "      <td>1</td>\n",
       "      <td>0</td>\n",
       "      <td>...</td>\n",
       "      <td>0</td>\n",
       "      <td>0</td>\n",
       "      <td>0</td>\n",
       "      <td>0</td>\n",
       "      <td>0</td>\n",
       "      <td>0</td>\n",
       "      <td>0</td>\n",
       "      <td>0</td>\n",
       "      <td>0</td>\n",
       "      <td>0</td>\n",
       "    </tr>\n",
       "    <tr>\n",
       "      <th>10221</th>\n",
       "      <td>Super built-up  Area</td>\n",
       "      <td>other</td>\n",
       "      <td>1353.0</td>\n",
       "      <td>2.0</td>\n",
       "      <td>110.0</td>\n",
       "      <td>2</td>\n",
       "      <td>0</td>\n",
       "      <td>0</td>\n",
       "      <td>1</td>\n",
       "      <td>0</td>\n",
       "      <td>...</td>\n",
       "      <td>0</td>\n",
       "      <td>0</td>\n",
       "      <td>0</td>\n",
       "      <td>0</td>\n",
       "      <td>0</td>\n",
       "      <td>0</td>\n",
       "      <td>0</td>\n",
       "      <td>0</td>\n",
       "      <td>0</td>\n",
       "      <td>0</td>\n",
       "    </tr>\n",
       "    <tr>\n",
       "      <th>10222</th>\n",
       "      <td>Plot  Area</td>\n",
       "      <td>other</td>\n",
       "      <td>812.0</td>\n",
       "      <td>1.0</td>\n",
       "      <td>26.0</td>\n",
       "      <td>1</td>\n",
       "      <td>0</td>\n",
       "      <td>1</td>\n",
       "      <td>0</td>\n",
       "      <td>0</td>\n",
       "      <td>...</td>\n",
       "      <td>0</td>\n",
       "      <td>0</td>\n",
       "      <td>0</td>\n",
       "      <td>0</td>\n",
       "      <td>0</td>\n",
       "      <td>0</td>\n",
       "      <td>0</td>\n",
       "      <td>0</td>\n",
       "      <td>0</td>\n",
       "      <td>0</td>\n",
       "    </tr>\n",
       "    <tr>\n",
       "      <th>10225</th>\n",
       "      <td>Super built-up  Area</td>\n",
       "      <td>other</td>\n",
       "      <td>3600.0</td>\n",
       "      <td>5.0</td>\n",
       "      <td>400.0</td>\n",
       "      <td>4</td>\n",
       "      <td>0</td>\n",
       "      <td>0</td>\n",
       "      <td>1</td>\n",
       "      <td>0</td>\n",
       "      <td>...</td>\n",
       "      <td>0</td>\n",
       "      <td>0</td>\n",
       "      <td>0</td>\n",
       "      <td>0</td>\n",
       "      <td>0</td>\n",
       "      <td>0</td>\n",
       "      <td>0</td>\n",
       "      <td>0</td>\n",
       "      <td>0</td>\n",
       "      <td>0</td>\n",
       "    </tr>\n",
       "  </tbody>\n",
       "</table>\n",
       "<p>7302 rows × 262 columns</p>\n",
       "</div>"
      ],
      "text/plain": [
       "                  area_type              location  total_sqft  bath  price  \\\n",
       "1      Super built-up  Area   Devarachikkanahalli      1250.0   2.0   40.0   \n",
       "2                Plot  Area   Devarachikkanahalli      1200.0   2.0   83.0   \n",
       "3      Super built-up  Area   Devarachikkanahalli      1170.0   2.0   40.0   \n",
       "4      Super built-up  Area   Devarachikkanahalli      1425.0   2.0   65.0   \n",
       "5      Super built-up  Area   Devarachikkanahalli       947.0   2.0   43.0   \n",
       "...                     ...                   ...         ...   ...    ...   \n",
       "10217          Carpet  Area                 other      1200.0   2.0   70.0   \n",
       "10218  Super built-up  Area                 other      1800.0   1.0  200.0   \n",
       "10221  Super built-up  Area                 other      1353.0   2.0  110.0   \n",
       "10222            Plot  Area                 other       812.0   1.0   26.0   \n",
       "10225  Super built-up  Area                 other      3600.0   5.0  400.0   \n",
       "\n",
       "       BHK  Built-up  Area  Plot  Area  Super built-up  Area  \\\n",
       "1        2               0           0                     1   \n",
       "2        2               0           1                     0   \n",
       "3        2               0           0                     1   \n",
       "4        3               0           0                     1   \n",
       "5        2               0           0                     1   \n",
       "...    ...             ...         ...                   ...   \n",
       "10217    2               0           0                     0   \n",
       "10218    1               0           0                     1   \n",
       "10221    2               0           0                     1   \n",
       "10222    1               0           1                     0   \n",
       "10225    4               0           0                     1   \n",
       "\n",
       "        Devarachikkanahalli  ...  Vijayanagar  Vishveshwarya Layout  \\\n",
       "1                         1  ...            0                     0   \n",
       "2                         1  ...            0                     0   \n",
       "3                         1  ...            0                     0   \n",
       "4                         1  ...            0                     0   \n",
       "5                         1  ...            0                     0   \n",
       "...                     ...  ...          ...                   ...   \n",
       "10217                     0  ...            0                     0   \n",
       "10218                     0  ...            0                     0   \n",
       "10221                     0  ...            0                     0   \n",
       "10222                     0  ...            0                     0   \n",
       "10225                     0  ...            0                     0   \n",
       "\n",
       "       Vishwapriya Layout  Vittasandra  Whitefield  Yelachenahalli  Yelahanka  \\\n",
       "1                       0            0           0               0          0   \n",
       "2                       0            0           0               0          0   \n",
       "3                       0            0           0               0          0   \n",
       "4                       0            0           0               0          0   \n",
       "5                       0            0           0               0          0   \n",
       "...                   ...          ...         ...             ...        ...   \n",
       "10217                   0            0           0               0          0   \n",
       "10218                   0            0           0               0          0   \n",
       "10221                   0            0           0               0          0   \n",
       "10222                   0            0           0               0          0   \n",
       "10225                   0            0           0               0          0   \n",
       "\n",
       "       Yelahanka New Town  Yelenahalli  Yeshwanthpur  \n",
       "1                       0            0             0  \n",
       "2                       0            0             0  \n",
       "3                       0            0             0  \n",
       "4                       0            0             0  \n",
       "5                       0            0             0  \n",
       "...                   ...          ...           ...  \n",
       "10217                   0            0             0  \n",
       "10218                   0            0             0  \n",
       "10221                   0            0             0  \n",
       "10222                   0            0             0  \n",
       "10225                   0            0             0  \n",
       "\n",
       "[7302 rows x 262 columns]"
      ]
     },
     "execution_count": 42,
     "metadata": {},
     "output_type": "execute_result"
    }
   ],
   "source": [
    "df11=pd.concat([df10,dummies1,dummies2],axis=\"columns\")\n",
    "df11"
   ]
  },
  {
   "cell_type": "code",
   "execution_count": 43,
   "id": "55b5ed87",
   "metadata": {
    "execution": {
     "iopub.execute_input": "2023-12-23T06:57:06.489536Z",
     "iopub.status.busy": "2023-12-23T06:57:06.489153Z",
     "iopub.status.idle": "2023-12-23T06:57:06.528485Z",
     "shell.execute_reply": "2023-12-23T06:57:06.527567Z"
    },
    "papermill": {
     "duration": 0.079732,
     "end_time": "2023-12-23T06:57:06.531386",
     "exception": false,
     "start_time": "2023-12-23T06:57:06.451654",
     "status": "completed"
    },
    "tags": []
   },
   "outputs": [
    {
     "data": {
      "text/html": [
       "<div>\n",
       "<style scoped>\n",
       "    .dataframe tbody tr th:only-of-type {\n",
       "        vertical-align: middle;\n",
       "    }\n",
       "\n",
       "    .dataframe tbody tr th {\n",
       "        vertical-align: top;\n",
       "    }\n",
       "\n",
       "    .dataframe thead th {\n",
       "        text-align: right;\n",
       "    }\n",
       "</style>\n",
       "<table border=\"1\" class=\"dataframe\">\n",
       "  <thead>\n",
       "    <tr style=\"text-align: right;\">\n",
       "      <th></th>\n",
       "      <th>total_sqft</th>\n",
       "      <th>bath</th>\n",
       "      <th>price</th>\n",
       "      <th>BHK</th>\n",
       "      <th>Built-up  Area</th>\n",
       "      <th>Plot  Area</th>\n",
       "      <th>Super built-up  Area</th>\n",
       "      <th>Devarachikkanahalli</th>\n",
       "      <th>1st Block Jayanagar</th>\n",
       "      <th>1st Block Koramangala</th>\n",
       "      <th>...</th>\n",
       "      <th>Vijayanagar</th>\n",
       "      <th>Vishveshwarya Layout</th>\n",
       "      <th>Vishwapriya Layout</th>\n",
       "      <th>Vittasandra</th>\n",
       "      <th>Whitefield</th>\n",
       "      <th>Yelachenahalli</th>\n",
       "      <th>Yelahanka</th>\n",
       "      <th>Yelahanka New Town</th>\n",
       "      <th>Yelenahalli</th>\n",
       "      <th>Yeshwanthpur</th>\n",
       "    </tr>\n",
       "  </thead>\n",
       "  <tbody>\n",
       "    <tr>\n",
       "      <th>1</th>\n",
       "      <td>1250.0</td>\n",
       "      <td>2.0</td>\n",
       "      <td>40.0</td>\n",
       "      <td>2</td>\n",
       "      <td>0</td>\n",
       "      <td>0</td>\n",
       "      <td>1</td>\n",
       "      <td>1</td>\n",
       "      <td>0</td>\n",
       "      <td>0</td>\n",
       "      <td>...</td>\n",
       "      <td>0</td>\n",
       "      <td>0</td>\n",
       "      <td>0</td>\n",
       "      <td>0</td>\n",
       "      <td>0</td>\n",
       "      <td>0</td>\n",
       "      <td>0</td>\n",
       "      <td>0</td>\n",
       "      <td>0</td>\n",
       "      <td>0</td>\n",
       "    </tr>\n",
       "    <tr>\n",
       "      <th>2</th>\n",
       "      <td>1200.0</td>\n",
       "      <td>2.0</td>\n",
       "      <td>83.0</td>\n",
       "      <td>2</td>\n",
       "      <td>0</td>\n",
       "      <td>1</td>\n",
       "      <td>0</td>\n",
       "      <td>1</td>\n",
       "      <td>0</td>\n",
       "      <td>0</td>\n",
       "      <td>...</td>\n",
       "      <td>0</td>\n",
       "      <td>0</td>\n",
       "      <td>0</td>\n",
       "      <td>0</td>\n",
       "      <td>0</td>\n",
       "      <td>0</td>\n",
       "      <td>0</td>\n",
       "      <td>0</td>\n",
       "      <td>0</td>\n",
       "      <td>0</td>\n",
       "    </tr>\n",
       "    <tr>\n",
       "      <th>3</th>\n",
       "      <td>1170.0</td>\n",
       "      <td>2.0</td>\n",
       "      <td>40.0</td>\n",
       "      <td>2</td>\n",
       "      <td>0</td>\n",
       "      <td>0</td>\n",
       "      <td>1</td>\n",
       "      <td>1</td>\n",
       "      <td>0</td>\n",
       "      <td>0</td>\n",
       "      <td>...</td>\n",
       "      <td>0</td>\n",
       "      <td>0</td>\n",
       "      <td>0</td>\n",
       "      <td>0</td>\n",
       "      <td>0</td>\n",
       "      <td>0</td>\n",
       "      <td>0</td>\n",
       "      <td>0</td>\n",
       "      <td>0</td>\n",
       "      <td>0</td>\n",
       "    </tr>\n",
       "    <tr>\n",
       "      <th>4</th>\n",
       "      <td>1425.0</td>\n",
       "      <td>2.0</td>\n",
       "      <td>65.0</td>\n",
       "      <td>3</td>\n",
       "      <td>0</td>\n",
       "      <td>0</td>\n",
       "      <td>1</td>\n",
       "      <td>1</td>\n",
       "      <td>0</td>\n",
       "      <td>0</td>\n",
       "      <td>...</td>\n",
       "      <td>0</td>\n",
       "      <td>0</td>\n",
       "      <td>0</td>\n",
       "      <td>0</td>\n",
       "      <td>0</td>\n",
       "      <td>0</td>\n",
       "      <td>0</td>\n",
       "      <td>0</td>\n",
       "      <td>0</td>\n",
       "      <td>0</td>\n",
       "    </tr>\n",
       "    <tr>\n",
       "      <th>5</th>\n",
       "      <td>947.0</td>\n",
       "      <td>2.0</td>\n",
       "      <td>43.0</td>\n",
       "      <td>2</td>\n",
       "      <td>0</td>\n",
       "      <td>0</td>\n",
       "      <td>1</td>\n",
       "      <td>1</td>\n",
       "      <td>0</td>\n",
       "      <td>0</td>\n",
       "      <td>...</td>\n",
       "      <td>0</td>\n",
       "      <td>0</td>\n",
       "      <td>0</td>\n",
       "      <td>0</td>\n",
       "      <td>0</td>\n",
       "      <td>0</td>\n",
       "      <td>0</td>\n",
       "      <td>0</td>\n",
       "      <td>0</td>\n",
       "      <td>0</td>\n",
       "    </tr>\n",
       "    <tr>\n",
       "      <th>...</th>\n",
       "      <td>...</td>\n",
       "      <td>...</td>\n",
       "      <td>...</td>\n",
       "      <td>...</td>\n",
       "      <td>...</td>\n",
       "      <td>...</td>\n",
       "      <td>...</td>\n",
       "      <td>...</td>\n",
       "      <td>...</td>\n",
       "      <td>...</td>\n",
       "      <td>...</td>\n",
       "      <td>...</td>\n",
       "      <td>...</td>\n",
       "      <td>...</td>\n",
       "      <td>...</td>\n",
       "      <td>...</td>\n",
       "      <td>...</td>\n",
       "      <td>...</td>\n",
       "      <td>...</td>\n",
       "      <td>...</td>\n",
       "      <td>...</td>\n",
       "    </tr>\n",
       "    <tr>\n",
       "      <th>10217</th>\n",
       "      <td>1200.0</td>\n",
       "      <td>2.0</td>\n",
       "      <td>70.0</td>\n",
       "      <td>2</td>\n",
       "      <td>0</td>\n",
       "      <td>0</td>\n",
       "      <td>0</td>\n",
       "      <td>0</td>\n",
       "      <td>0</td>\n",
       "      <td>0</td>\n",
       "      <td>...</td>\n",
       "      <td>0</td>\n",
       "      <td>0</td>\n",
       "      <td>0</td>\n",
       "      <td>0</td>\n",
       "      <td>0</td>\n",
       "      <td>0</td>\n",
       "      <td>0</td>\n",
       "      <td>0</td>\n",
       "      <td>0</td>\n",
       "      <td>0</td>\n",
       "    </tr>\n",
       "    <tr>\n",
       "      <th>10218</th>\n",
       "      <td>1800.0</td>\n",
       "      <td>1.0</td>\n",
       "      <td>200.0</td>\n",
       "      <td>1</td>\n",
       "      <td>0</td>\n",
       "      <td>0</td>\n",
       "      <td>1</td>\n",
       "      <td>0</td>\n",
       "      <td>0</td>\n",
       "      <td>0</td>\n",
       "      <td>...</td>\n",
       "      <td>0</td>\n",
       "      <td>0</td>\n",
       "      <td>0</td>\n",
       "      <td>0</td>\n",
       "      <td>0</td>\n",
       "      <td>0</td>\n",
       "      <td>0</td>\n",
       "      <td>0</td>\n",
       "      <td>0</td>\n",
       "      <td>0</td>\n",
       "    </tr>\n",
       "    <tr>\n",
       "      <th>10221</th>\n",
       "      <td>1353.0</td>\n",
       "      <td>2.0</td>\n",
       "      <td>110.0</td>\n",
       "      <td>2</td>\n",
       "      <td>0</td>\n",
       "      <td>0</td>\n",
       "      <td>1</td>\n",
       "      <td>0</td>\n",
       "      <td>0</td>\n",
       "      <td>0</td>\n",
       "      <td>...</td>\n",
       "      <td>0</td>\n",
       "      <td>0</td>\n",
       "      <td>0</td>\n",
       "      <td>0</td>\n",
       "      <td>0</td>\n",
       "      <td>0</td>\n",
       "      <td>0</td>\n",
       "      <td>0</td>\n",
       "      <td>0</td>\n",
       "      <td>0</td>\n",
       "    </tr>\n",
       "    <tr>\n",
       "      <th>10222</th>\n",
       "      <td>812.0</td>\n",
       "      <td>1.0</td>\n",
       "      <td>26.0</td>\n",
       "      <td>1</td>\n",
       "      <td>0</td>\n",
       "      <td>1</td>\n",
       "      <td>0</td>\n",
       "      <td>0</td>\n",
       "      <td>0</td>\n",
       "      <td>0</td>\n",
       "      <td>...</td>\n",
       "      <td>0</td>\n",
       "      <td>0</td>\n",
       "      <td>0</td>\n",
       "      <td>0</td>\n",
       "      <td>0</td>\n",
       "      <td>0</td>\n",
       "      <td>0</td>\n",
       "      <td>0</td>\n",
       "      <td>0</td>\n",
       "      <td>0</td>\n",
       "    </tr>\n",
       "    <tr>\n",
       "      <th>10225</th>\n",
       "      <td>3600.0</td>\n",
       "      <td>5.0</td>\n",
       "      <td>400.0</td>\n",
       "      <td>4</td>\n",
       "      <td>0</td>\n",
       "      <td>0</td>\n",
       "      <td>1</td>\n",
       "      <td>0</td>\n",
       "      <td>0</td>\n",
       "      <td>0</td>\n",
       "      <td>...</td>\n",
       "      <td>0</td>\n",
       "      <td>0</td>\n",
       "      <td>0</td>\n",
       "      <td>0</td>\n",
       "      <td>0</td>\n",
       "      <td>0</td>\n",
       "      <td>0</td>\n",
       "      <td>0</td>\n",
       "      <td>0</td>\n",
       "      <td>0</td>\n",
       "    </tr>\n",
       "  </tbody>\n",
       "</table>\n",
       "<p>7302 rows × 260 columns</p>\n",
       "</div>"
      ],
      "text/plain": [
       "       total_sqft  bath  price  BHK  Built-up  Area  Plot  Area  \\\n",
       "1          1250.0   2.0   40.0    2               0           0   \n",
       "2          1200.0   2.0   83.0    2               0           1   \n",
       "3          1170.0   2.0   40.0    2               0           0   \n",
       "4          1425.0   2.0   65.0    3               0           0   \n",
       "5           947.0   2.0   43.0    2               0           0   \n",
       "...           ...   ...    ...  ...             ...         ...   \n",
       "10217      1200.0   2.0   70.0    2               0           0   \n",
       "10218      1800.0   1.0  200.0    1               0           0   \n",
       "10221      1353.0   2.0  110.0    2               0           0   \n",
       "10222       812.0   1.0   26.0    1               0           1   \n",
       "10225      3600.0   5.0  400.0    4               0           0   \n",
       "\n",
       "       Super built-up  Area   Devarachikkanahalli  1st Block Jayanagar  \\\n",
       "1                         1                     1                    0   \n",
       "2                         0                     1                    0   \n",
       "3                         1                     1                    0   \n",
       "4                         1                     1                    0   \n",
       "5                         1                     1                    0   \n",
       "...                     ...                   ...                  ...   \n",
       "10217                     0                     0                    0   \n",
       "10218                     1                     0                    0   \n",
       "10221                     1                     0                    0   \n",
       "10222                     0                     0                    0   \n",
       "10225                     1                     0                    0   \n",
       "\n",
       "       1st Block Koramangala  ...  Vijayanagar  Vishveshwarya Layout  \\\n",
       "1                          0  ...            0                     0   \n",
       "2                          0  ...            0                     0   \n",
       "3                          0  ...            0                     0   \n",
       "4                          0  ...            0                     0   \n",
       "5                          0  ...            0                     0   \n",
       "...                      ...  ...          ...                   ...   \n",
       "10217                      0  ...            0                     0   \n",
       "10218                      0  ...            0                     0   \n",
       "10221                      0  ...            0                     0   \n",
       "10222                      0  ...            0                     0   \n",
       "10225                      0  ...            0                     0   \n",
       "\n",
       "       Vishwapriya Layout  Vittasandra  Whitefield  Yelachenahalli  Yelahanka  \\\n",
       "1                       0            0           0               0          0   \n",
       "2                       0            0           0               0          0   \n",
       "3                       0            0           0               0          0   \n",
       "4                       0            0           0               0          0   \n",
       "5                       0            0           0               0          0   \n",
       "...                   ...          ...         ...             ...        ...   \n",
       "10217                   0            0           0               0          0   \n",
       "10218                   0            0           0               0          0   \n",
       "10221                   0            0           0               0          0   \n",
       "10222                   0            0           0               0          0   \n",
       "10225                   0            0           0               0          0   \n",
       "\n",
       "       Yelahanka New Town  Yelenahalli  Yeshwanthpur  \n",
       "1                       0            0             0  \n",
       "2                       0            0             0  \n",
       "3                       0            0             0  \n",
       "4                       0            0             0  \n",
       "5                       0            0             0  \n",
       "...                   ...          ...           ...  \n",
       "10217                   0            0             0  \n",
       "10218                   0            0             0  \n",
       "10221                   0            0             0  \n",
       "10222                   0            0             0  \n",
       "10225                   0            0             0  \n",
       "\n",
       "[7302 rows x 260 columns]"
      ]
     },
     "execution_count": 43,
     "metadata": {},
     "output_type": "execute_result"
    }
   ],
   "source": [
    "df12=df11.drop(['area_type','location'],axis=\"columns\")\n",
    "df12"
   ]
  },
  {
   "cell_type": "markdown",
   "id": "5ccea997",
   "metadata": {
    "papermill": {
     "duration": 0.036272,
     "end_time": "2023-12-23T06:57:06.605442",
     "exception": false,
     "start_time": "2023-12-23T06:57:06.569170",
     "status": "completed"
    },
    "tags": []
   },
   "source": [
    "DATA CLEANING,FEATURE ENGINEERING,DIMENSIONALITY REDUCTION,OUTLIERES REMOVAL DONE"
   ]
  },
  {
   "cell_type": "code",
   "execution_count": null,
   "id": "549617b0",
   "metadata": {
    "papermill": {
     "duration": 0.036136,
     "end_time": "2023-12-23T06:57:06.678019",
     "exception": false,
     "start_time": "2023-12-23T06:57:06.641883",
     "status": "completed"
    },
    "tags": []
   },
   "outputs": [],
   "source": []
  },
  {
   "cell_type": "markdown",
   "id": "6a390dd8",
   "metadata": {
    "papermill": {
     "duration": 0.036316,
     "end_time": "2023-12-23T06:57:06.750466",
     "exception": false,
     "start_time": "2023-12-23T06:57:06.714150",
     "status": "completed"
    },
    "tags": []
   },
   "source": [
    "NOW TO MACHINE LEARNING MODEL"
   ]
  },
  {
   "cell_type": "code",
   "execution_count": 44,
   "id": "9b1b1471",
   "metadata": {
    "execution": {
     "iopub.execute_input": "2023-12-23T06:57:06.825320Z",
     "iopub.status.busy": "2023-12-23T06:57:06.824486Z",
     "iopub.status.idle": "2023-12-23T06:57:06.861627Z",
     "shell.execute_reply": "2023-12-23T06:57:06.860487Z"
    },
    "papermill": {
     "duration": 0.077608,
     "end_time": "2023-12-23T06:57:06.864265",
     "exception": false,
     "start_time": "2023-12-23T06:57:06.786657",
     "status": "completed"
    },
    "tags": []
   },
   "outputs": [
    {
     "data": {
      "text/html": [
       "<div>\n",
       "<style scoped>\n",
       "    .dataframe tbody tr th:only-of-type {\n",
       "        vertical-align: middle;\n",
       "    }\n",
       "\n",
       "    .dataframe tbody tr th {\n",
       "        vertical-align: top;\n",
       "    }\n",
       "\n",
       "    .dataframe thead th {\n",
       "        text-align: right;\n",
       "    }\n",
       "</style>\n",
       "<table border=\"1\" class=\"dataframe\">\n",
       "  <thead>\n",
       "    <tr style=\"text-align: right;\">\n",
       "      <th></th>\n",
       "      <th>total_sqft</th>\n",
       "      <th>bath</th>\n",
       "      <th>BHK</th>\n",
       "      <th>Built-up  Area</th>\n",
       "      <th>Plot  Area</th>\n",
       "      <th>Super built-up  Area</th>\n",
       "      <th>Devarachikkanahalli</th>\n",
       "      <th>1st Block Jayanagar</th>\n",
       "      <th>1st Block Koramangala</th>\n",
       "      <th>1st Phase JP Nagar</th>\n",
       "      <th>...</th>\n",
       "      <th>Vijayanagar</th>\n",
       "      <th>Vishveshwarya Layout</th>\n",
       "      <th>Vishwapriya Layout</th>\n",
       "      <th>Vittasandra</th>\n",
       "      <th>Whitefield</th>\n",
       "      <th>Yelachenahalli</th>\n",
       "      <th>Yelahanka</th>\n",
       "      <th>Yelahanka New Town</th>\n",
       "      <th>Yelenahalli</th>\n",
       "      <th>Yeshwanthpur</th>\n",
       "    </tr>\n",
       "  </thead>\n",
       "  <tbody>\n",
       "    <tr>\n",
       "      <th>1</th>\n",
       "      <td>1250.0</td>\n",
       "      <td>2.0</td>\n",
       "      <td>2</td>\n",
       "      <td>0</td>\n",
       "      <td>0</td>\n",
       "      <td>1</td>\n",
       "      <td>1</td>\n",
       "      <td>0</td>\n",
       "      <td>0</td>\n",
       "      <td>0</td>\n",
       "      <td>...</td>\n",
       "      <td>0</td>\n",
       "      <td>0</td>\n",
       "      <td>0</td>\n",
       "      <td>0</td>\n",
       "      <td>0</td>\n",
       "      <td>0</td>\n",
       "      <td>0</td>\n",
       "      <td>0</td>\n",
       "      <td>0</td>\n",
       "      <td>0</td>\n",
       "    </tr>\n",
       "    <tr>\n",
       "      <th>2</th>\n",
       "      <td>1200.0</td>\n",
       "      <td>2.0</td>\n",
       "      <td>2</td>\n",
       "      <td>0</td>\n",
       "      <td>1</td>\n",
       "      <td>0</td>\n",
       "      <td>1</td>\n",
       "      <td>0</td>\n",
       "      <td>0</td>\n",
       "      <td>0</td>\n",
       "      <td>...</td>\n",
       "      <td>0</td>\n",
       "      <td>0</td>\n",
       "      <td>0</td>\n",
       "      <td>0</td>\n",
       "      <td>0</td>\n",
       "      <td>0</td>\n",
       "      <td>0</td>\n",
       "      <td>0</td>\n",
       "      <td>0</td>\n",
       "      <td>0</td>\n",
       "    </tr>\n",
       "    <tr>\n",
       "      <th>3</th>\n",
       "      <td>1170.0</td>\n",
       "      <td>2.0</td>\n",
       "      <td>2</td>\n",
       "      <td>0</td>\n",
       "      <td>0</td>\n",
       "      <td>1</td>\n",
       "      <td>1</td>\n",
       "      <td>0</td>\n",
       "      <td>0</td>\n",
       "      <td>0</td>\n",
       "      <td>...</td>\n",
       "      <td>0</td>\n",
       "      <td>0</td>\n",
       "      <td>0</td>\n",
       "      <td>0</td>\n",
       "      <td>0</td>\n",
       "      <td>0</td>\n",
       "      <td>0</td>\n",
       "      <td>0</td>\n",
       "      <td>0</td>\n",
       "      <td>0</td>\n",
       "    </tr>\n",
       "    <tr>\n",
       "      <th>4</th>\n",
       "      <td>1425.0</td>\n",
       "      <td>2.0</td>\n",
       "      <td>3</td>\n",
       "      <td>0</td>\n",
       "      <td>0</td>\n",
       "      <td>1</td>\n",
       "      <td>1</td>\n",
       "      <td>0</td>\n",
       "      <td>0</td>\n",
       "      <td>0</td>\n",
       "      <td>...</td>\n",
       "      <td>0</td>\n",
       "      <td>0</td>\n",
       "      <td>0</td>\n",
       "      <td>0</td>\n",
       "      <td>0</td>\n",
       "      <td>0</td>\n",
       "      <td>0</td>\n",
       "      <td>0</td>\n",
       "      <td>0</td>\n",
       "      <td>0</td>\n",
       "    </tr>\n",
       "    <tr>\n",
       "      <th>5</th>\n",
       "      <td>947.0</td>\n",
       "      <td>2.0</td>\n",
       "      <td>2</td>\n",
       "      <td>0</td>\n",
       "      <td>0</td>\n",
       "      <td>1</td>\n",
       "      <td>1</td>\n",
       "      <td>0</td>\n",
       "      <td>0</td>\n",
       "      <td>0</td>\n",
       "      <td>...</td>\n",
       "      <td>0</td>\n",
       "      <td>0</td>\n",
       "      <td>0</td>\n",
       "      <td>0</td>\n",
       "      <td>0</td>\n",
       "      <td>0</td>\n",
       "      <td>0</td>\n",
       "      <td>0</td>\n",
       "      <td>0</td>\n",
       "      <td>0</td>\n",
       "    </tr>\n",
       "    <tr>\n",
       "      <th>...</th>\n",
       "      <td>...</td>\n",
       "      <td>...</td>\n",
       "      <td>...</td>\n",
       "      <td>...</td>\n",
       "      <td>...</td>\n",
       "      <td>...</td>\n",
       "      <td>...</td>\n",
       "      <td>...</td>\n",
       "      <td>...</td>\n",
       "      <td>...</td>\n",
       "      <td>...</td>\n",
       "      <td>...</td>\n",
       "      <td>...</td>\n",
       "      <td>...</td>\n",
       "      <td>...</td>\n",
       "      <td>...</td>\n",
       "      <td>...</td>\n",
       "      <td>...</td>\n",
       "      <td>...</td>\n",
       "      <td>...</td>\n",
       "      <td>...</td>\n",
       "    </tr>\n",
       "    <tr>\n",
       "      <th>10217</th>\n",
       "      <td>1200.0</td>\n",
       "      <td>2.0</td>\n",
       "      <td>2</td>\n",
       "      <td>0</td>\n",
       "      <td>0</td>\n",
       "      <td>0</td>\n",
       "      <td>0</td>\n",
       "      <td>0</td>\n",
       "      <td>0</td>\n",
       "      <td>0</td>\n",
       "      <td>...</td>\n",
       "      <td>0</td>\n",
       "      <td>0</td>\n",
       "      <td>0</td>\n",
       "      <td>0</td>\n",
       "      <td>0</td>\n",
       "      <td>0</td>\n",
       "      <td>0</td>\n",
       "      <td>0</td>\n",
       "      <td>0</td>\n",
       "      <td>0</td>\n",
       "    </tr>\n",
       "    <tr>\n",
       "      <th>10218</th>\n",
       "      <td>1800.0</td>\n",
       "      <td>1.0</td>\n",
       "      <td>1</td>\n",
       "      <td>0</td>\n",
       "      <td>0</td>\n",
       "      <td>1</td>\n",
       "      <td>0</td>\n",
       "      <td>0</td>\n",
       "      <td>0</td>\n",
       "      <td>0</td>\n",
       "      <td>...</td>\n",
       "      <td>0</td>\n",
       "      <td>0</td>\n",
       "      <td>0</td>\n",
       "      <td>0</td>\n",
       "      <td>0</td>\n",
       "      <td>0</td>\n",
       "      <td>0</td>\n",
       "      <td>0</td>\n",
       "      <td>0</td>\n",
       "      <td>0</td>\n",
       "    </tr>\n",
       "    <tr>\n",
       "      <th>10221</th>\n",
       "      <td>1353.0</td>\n",
       "      <td>2.0</td>\n",
       "      <td>2</td>\n",
       "      <td>0</td>\n",
       "      <td>0</td>\n",
       "      <td>1</td>\n",
       "      <td>0</td>\n",
       "      <td>0</td>\n",
       "      <td>0</td>\n",
       "      <td>0</td>\n",
       "      <td>...</td>\n",
       "      <td>0</td>\n",
       "      <td>0</td>\n",
       "      <td>0</td>\n",
       "      <td>0</td>\n",
       "      <td>0</td>\n",
       "      <td>0</td>\n",
       "      <td>0</td>\n",
       "      <td>0</td>\n",
       "      <td>0</td>\n",
       "      <td>0</td>\n",
       "    </tr>\n",
       "    <tr>\n",
       "      <th>10222</th>\n",
       "      <td>812.0</td>\n",
       "      <td>1.0</td>\n",
       "      <td>1</td>\n",
       "      <td>0</td>\n",
       "      <td>1</td>\n",
       "      <td>0</td>\n",
       "      <td>0</td>\n",
       "      <td>0</td>\n",
       "      <td>0</td>\n",
       "      <td>0</td>\n",
       "      <td>...</td>\n",
       "      <td>0</td>\n",
       "      <td>0</td>\n",
       "      <td>0</td>\n",
       "      <td>0</td>\n",
       "      <td>0</td>\n",
       "      <td>0</td>\n",
       "      <td>0</td>\n",
       "      <td>0</td>\n",
       "      <td>0</td>\n",
       "      <td>0</td>\n",
       "    </tr>\n",
       "    <tr>\n",
       "      <th>10225</th>\n",
       "      <td>3600.0</td>\n",
       "      <td>5.0</td>\n",
       "      <td>4</td>\n",
       "      <td>0</td>\n",
       "      <td>0</td>\n",
       "      <td>1</td>\n",
       "      <td>0</td>\n",
       "      <td>0</td>\n",
       "      <td>0</td>\n",
       "      <td>0</td>\n",
       "      <td>...</td>\n",
       "      <td>0</td>\n",
       "      <td>0</td>\n",
       "      <td>0</td>\n",
       "      <td>0</td>\n",
       "      <td>0</td>\n",
       "      <td>0</td>\n",
       "      <td>0</td>\n",
       "      <td>0</td>\n",
       "      <td>0</td>\n",
       "      <td>0</td>\n",
       "    </tr>\n",
       "  </tbody>\n",
       "</table>\n",
       "<p>7302 rows × 259 columns</p>\n",
       "</div>"
      ],
      "text/plain": [
       "       total_sqft  bath  BHK  Built-up  Area  Plot  Area  \\\n",
       "1          1250.0   2.0    2               0           0   \n",
       "2          1200.0   2.0    2               0           1   \n",
       "3          1170.0   2.0    2               0           0   \n",
       "4          1425.0   2.0    3               0           0   \n",
       "5           947.0   2.0    2               0           0   \n",
       "...           ...   ...  ...             ...         ...   \n",
       "10217      1200.0   2.0    2               0           0   \n",
       "10218      1800.0   1.0    1               0           0   \n",
       "10221      1353.0   2.0    2               0           0   \n",
       "10222       812.0   1.0    1               0           1   \n",
       "10225      3600.0   5.0    4               0           0   \n",
       "\n",
       "       Super built-up  Area   Devarachikkanahalli  1st Block Jayanagar  \\\n",
       "1                         1                     1                    0   \n",
       "2                         0                     1                    0   \n",
       "3                         1                     1                    0   \n",
       "4                         1                     1                    0   \n",
       "5                         1                     1                    0   \n",
       "...                     ...                   ...                  ...   \n",
       "10217                     0                     0                    0   \n",
       "10218                     1                     0                    0   \n",
       "10221                     1                     0                    0   \n",
       "10222                     0                     0                    0   \n",
       "10225                     1                     0                    0   \n",
       "\n",
       "       1st Block Koramangala  1st Phase JP Nagar  ...  Vijayanagar  \\\n",
       "1                          0                   0  ...            0   \n",
       "2                          0                   0  ...            0   \n",
       "3                          0                   0  ...            0   \n",
       "4                          0                   0  ...            0   \n",
       "5                          0                   0  ...            0   \n",
       "...                      ...                 ...  ...          ...   \n",
       "10217                      0                   0  ...            0   \n",
       "10218                      0                   0  ...            0   \n",
       "10221                      0                   0  ...            0   \n",
       "10222                      0                   0  ...            0   \n",
       "10225                      0                   0  ...            0   \n",
       "\n",
       "       Vishveshwarya Layout  Vishwapriya Layout  Vittasandra  Whitefield  \\\n",
       "1                         0                   0            0           0   \n",
       "2                         0                   0            0           0   \n",
       "3                         0                   0            0           0   \n",
       "4                         0                   0            0           0   \n",
       "5                         0                   0            0           0   \n",
       "...                     ...                 ...          ...         ...   \n",
       "10217                     0                   0            0           0   \n",
       "10218                     0                   0            0           0   \n",
       "10221                     0                   0            0           0   \n",
       "10222                     0                   0            0           0   \n",
       "10225                     0                   0            0           0   \n",
       "\n",
       "       Yelachenahalli  Yelahanka  Yelahanka New Town  Yelenahalli  \\\n",
       "1                   0          0                   0            0   \n",
       "2                   0          0                   0            0   \n",
       "3                   0          0                   0            0   \n",
       "4                   0          0                   0            0   \n",
       "5                   0          0                   0            0   \n",
       "...               ...        ...                 ...          ...   \n",
       "10217               0          0                   0            0   \n",
       "10218               0          0                   0            0   \n",
       "10221               0          0                   0            0   \n",
       "10222               0          0                   0            0   \n",
       "10225               0          0                   0            0   \n",
       "\n",
       "       Yeshwanthpur  \n",
       "1                 0  \n",
       "2                 0  \n",
       "3                 0  \n",
       "4                 0  \n",
       "5                 0  \n",
       "...             ...  \n",
       "10217             0  \n",
       "10218             0  \n",
       "10221             0  \n",
       "10222             0  \n",
       "10225             0  \n",
       "\n",
       "[7302 rows x 259 columns]"
      ]
     },
     "execution_count": 44,
     "metadata": {},
     "output_type": "execute_result"
    }
   ],
   "source": [
    "X=df12.drop('price',axis=\"columns\")\n",
    "X"
   ]
  },
  {
   "cell_type": "code",
   "execution_count": 45,
   "id": "c7521991",
   "metadata": {
    "execution": {
     "iopub.execute_input": "2023-12-23T06:57:06.941852Z",
     "iopub.status.busy": "2023-12-23T06:57:06.941427Z",
     "iopub.status.idle": "2023-12-23T06:57:06.951243Z",
     "shell.execute_reply": "2023-12-23T06:57:06.950138Z"
    },
    "papermill": {
     "duration": 0.052629,
     "end_time": "2023-12-23T06:57:06.953775",
     "exception": false,
     "start_time": "2023-12-23T06:57:06.901146",
     "status": "completed"
    },
    "tags": []
   },
   "outputs": [
    {
     "data": {
      "text/plain": [
       "1         40.0\n",
       "2         83.0\n",
       "3         40.0\n",
       "4         65.0\n",
       "5         43.0\n",
       "         ...  \n",
       "10217     70.0\n",
       "10218    200.0\n",
       "10221    110.0\n",
       "10222     26.0\n",
       "10225    400.0\n",
       "Name: price, Length: 7302, dtype: float64"
      ]
     },
     "execution_count": 45,
     "metadata": {},
     "output_type": "execute_result"
    }
   ],
   "source": [
    "Y=df12['price']\n",
    "Y"
   ]
  },
  {
   "cell_type": "code",
   "execution_count": 46,
   "id": "88435c3b",
   "metadata": {
    "execution": {
     "iopub.execute_input": "2023-12-23T06:57:07.030763Z",
     "iopub.status.busy": "2023-12-23T06:57:07.030270Z",
     "iopub.status.idle": "2023-12-23T06:57:08.533535Z",
     "shell.execute_reply": "2023-12-23T06:57:08.532168Z"
    },
    "papermill": {
     "duration": 1.545861,
     "end_time": "2023-12-23T06:57:08.537037",
     "exception": false,
     "start_time": "2023-12-23T06:57:06.991176",
     "status": "completed"
    },
    "tags": []
   },
   "outputs": [],
   "source": [
    "from sklearn.model_selection import train_test_split"
   ]
  },
  {
   "cell_type": "code",
   "execution_count": 47,
   "id": "139676b3",
   "metadata": {
    "execution": {
     "iopub.execute_input": "2023-12-23T06:57:08.615359Z",
     "iopub.status.busy": "2023-12-23T06:57:08.614957Z",
     "iopub.status.idle": "2023-12-23T06:57:08.637683Z",
     "shell.execute_reply": "2023-12-23T06:57:08.636527Z"
    },
    "papermill": {
     "duration": 0.064675,
     "end_time": "2023-12-23T06:57:08.640571",
     "exception": false,
     "start_time": "2023-12-23T06:57:08.575896",
     "status": "completed"
    },
    "tags": []
   },
   "outputs": [],
   "source": [
    "X_train,X_test,Y_train,Y_test=train_test_split(X,Y,test_size=0.2,shuffle=True)"
   ]
  },
  {
   "cell_type": "code",
   "execution_count": 48,
   "id": "dfb44171",
   "metadata": {
    "execution": {
     "iopub.execute_input": "2023-12-23T06:57:08.719275Z",
     "iopub.status.busy": "2023-12-23T06:57:08.718254Z",
     "iopub.status.idle": "2023-12-23T06:57:08.726472Z",
     "shell.execute_reply": "2023-12-23T06:57:08.725410Z"
    },
    "papermill": {
     "duration": 0.050787,
     "end_time": "2023-12-23T06:57:08.729351",
     "exception": false,
     "start_time": "2023-12-23T06:57:08.678564",
     "status": "completed"
    },
    "tags": []
   },
   "outputs": [
    {
     "data": {
      "text/plain": [
       "(5841, 259)"
      ]
     },
     "execution_count": 48,
     "metadata": {},
     "output_type": "execute_result"
    }
   ],
   "source": [
    "X_train.shape"
   ]
  },
  {
   "cell_type": "code",
   "execution_count": 49,
   "id": "2feeb1f0",
   "metadata": {
    "execution": {
     "iopub.execute_input": "2023-12-23T06:57:08.808261Z",
     "iopub.status.busy": "2023-12-23T06:57:08.806988Z",
     "iopub.status.idle": "2023-12-23T06:57:08.814930Z",
     "shell.execute_reply": "2023-12-23T06:57:08.813675Z"
    },
    "papermill": {
     "duration": 0.049706,
     "end_time": "2023-12-23T06:57:08.817366",
     "exception": false,
     "start_time": "2023-12-23T06:57:08.767660",
     "status": "completed"
    },
    "tags": []
   },
   "outputs": [
    {
     "data": {
      "text/plain": [
       "(1461, 259)"
      ]
     },
     "execution_count": 49,
     "metadata": {},
     "output_type": "execute_result"
    }
   ],
   "source": [
    "X_test.shape"
   ]
  },
  {
   "cell_type": "code",
   "execution_count": 50,
   "id": "2735ff65",
   "metadata": {
    "execution": {
     "iopub.execute_input": "2023-12-23T06:57:08.894975Z",
     "iopub.status.busy": "2023-12-23T06:57:08.894555Z",
     "iopub.status.idle": "2023-12-23T06:57:18.756124Z",
     "shell.execute_reply": "2023-12-23T06:57:18.754692Z"
    },
    "papermill": {
     "duration": 9.904032,
     "end_time": "2023-12-23T06:57:18.758888",
     "exception": false,
     "start_time": "2023-12-23T06:57:08.854856",
     "status": "completed"
    },
    "tags": []
   },
   "outputs": [
    {
     "data": {
      "text/html": [
       "<style>#sk-container-id-1 {color: black;background-color: white;}#sk-container-id-1 pre{padding: 0;}#sk-container-id-1 div.sk-toggleable {background-color: white;}#sk-container-id-1 label.sk-toggleable__label {cursor: pointer;display: block;width: 100%;margin-bottom: 0;padding: 0.3em;box-sizing: border-box;text-align: center;}#sk-container-id-1 label.sk-toggleable__label-arrow:before {content: \"▸\";float: left;margin-right: 0.25em;color: #696969;}#sk-container-id-1 label.sk-toggleable__label-arrow:hover:before {color: black;}#sk-container-id-1 div.sk-estimator:hover label.sk-toggleable__label-arrow:before {color: black;}#sk-container-id-1 div.sk-toggleable__content {max-height: 0;max-width: 0;overflow: hidden;text-align: left;background-color: #f0f8ff;}#sk-container-id-1 div.sk-toggleable__content pre {margin: 0.2em;color: black;border-radius: 0.25em;background-color: #f0f8ff;}#sk-container-id-1 input.sk-toggleable__control:checked~div.sk-toggleable__content {max-height: 200px;max-width: 100%;overflow: auto;}#sk-container-id-1 input.sk-toggleable__control:checked~label.sk-toggleable__label-arrow:before {content: \"▾\";}#sk-container-id-1 div.sk-estimator input.sk-toggleable__control:checked~label.sk-toggleable__label {background-color: #d4ebff;}#sk-container-id-1 div.sk-label input.sk-toggleable__control:checked~label.sk-toggleable__label {background-color: #d4ebff;}#sk-container-id-1 input.sk-hidden--visually {border: 0;clip: rect(1px 1px 1px 1px);clip: rect(1px, 1px, 1px, 1px);height: 1px;margin: -1px;overflow: hidden;padding: 0;position: absolute;width: 1px;}#sk-container-id-1 div.sk-estimator {font-family: monospace;background-color: #f0f8ff;border: 1px dotted black;border-radius: 0.25em;box-sizing: border-box;margin-bottom: 0.5em;}#sk-container-id-1 div.sk-estimator:hover {background-color: #d4ebff;}#sk-container-id-1 div.sk-parallel-item::after {content: \"\";width: 100%;border-bottom: 1px solid gray;flex-grow: 1;}#sk-container-id-1 div.sk-label:hover label.sk-toggleable__label {background-color: #d4ebff;}#sk-container-id-1 div.sk-serial::before {content: \"\";position: absolute;border-left: 1px solid gray;box-sizing: border-box;top: 0;bottom: 0;left: 50%;z-index: 0;}#sk-container-id-1 div.sk-serial {display: flex;flex-direction: column;align-items: center;background-color: white;padding-right: 0.2em;padding-left: 0.2em;position: relative;}#sk-container-id-1 div.sk-item {position: relative;z-index: 1;}#sk-container-id-1 div.sk-parallel {display: flex;align-items: stretch;justify-content: center;background-color: white;position: relative;}#sk-container-id-1 div.sk-item::before, #sk-container-id-1 div.sk-parallel-item::before {content: \"\";position: absolute;border-left: 1px solid gray;box-sizing: border-box;top: 0;bottom: 0;left: 50%;z-index: -1;}#sk-container-id-1 div.sk-parallel-item {display: flex;flex-direction: column;z-index: 1;position: relative;background-color: white;}#sk-container-id-1 div.sk-parallel-item:first-child::after {align-self: flex-end;width: 50%;}#sk-container-id-1 div.sk-parallel-item:last-child::after {align-self: flex-start;width: 50%;}#sk-container-id-1 div.sk-parallel-item:only-child::after {width: 0;}#sk-container-id-1 div.sk-dashed-wrapped {border: 1px dashed gray;margin: 0 0.4em 0.5em 0.4em;box-sizing: border-box;padding-bottom: 0.4em;background-color: white;}#sk-container-id-1 div.sk-label label {font-family: monospace;font-weight: bold;display: inline-block;line-height: 1.2em;}#sk-container-id-1 div.sk-label-container {text-align: center;}#sk-container-id-1 div.sk-container {/* jupyter's `normalize.less` sets `[hidden] { display: none; }` but bootstrap.min.css set `[hidden] { display: none !important; }` so we also need the `!important` here to be able to override the default hidden behavior on the sphinx rendered scikit-learn.org. See: https://github.com/scikit-learn/scikit-learn/issues/21755 */display: inline-block !important;position: relative;}#sk-container-id-1 div.sk-text-repr-fallback {display: none;}</style><div id=\"sk-container-id-1\" class=\"sk-top-container\"><div class=\"sk-text-repr-fallback\"><pre>RandomForestRegressor()</pre><b>In a Jupyter environment, please rerun this cell to show the HTML representation or trust the notebook. <br />On GitHub, the HTML representation is unable to render, please try loading this page with nbviewer.org.</b></div><div class=\"sk-container\" hidden><div class=\"sk-item\"><div class=\"sk-estimator sk-toggleable\"><input class=\"sk-toggleable__control sk-hidden--visually\" id=\"sk-estimator-id-1\" type=\"checkbox\" checked><label for=\"sk-estimator-id-1\" class=\"sk-toggleable__label sk-toggleable__label-arrow\">RandomForestRegressor</label><div class=\"sk-toggleable__content\"><pre>RandomForestRegressor()</pre></div></div></div></div></div>"
      ],
      "text/plain": [
       "RandomForestRegressor()"
      ]
     },
     "execution_count": 50,
     "metadata": {},
     "output_type": "execute_result"
    }
   ],
   "source": [
    "from sklearn.linear_model import LinearRegression\n",
    "from sklearn.tree import DecisionTreeRegressor\n",
    "from sklearn.ensemble import RandomForestRegressor\n",
    "lr=LinearRegression()\n",
    "Dt=DecisionTreeRegressor()\n",
    "RF=RandomForestRegressor()\n",
    "Dt.fit(X_train,Y_train)\n",
    "lr.fit(X_train,Y_train)\n",
    "RF.fit(X_train,Y_train)"
   ]
  },
  {
   "cell_type": "code",
   "execution_count": 51,
   "id": "1e1750ca",
   "metadata": {
    "execution": {
     "iopub.execute_input": "2023-12-23T06:57:18.838488Z",
     "iopub.status.busy": "2023-12-23T06:57:18.837393Z",
     "iopub.status.idle": "2023-12-23T06:57:18.854550Z",
     "shell.execute_reply": "2023-12-23T06:57:18.853391Z"
    },
    "papermill": {
     "duration": 0.060159,
     "end_time": "2023-12-23T06:57:18.857156",
     "exception": false,
     "start_time": "2023-12-23T06:57:18.796997",
     "status": "completed"
    },
    "tags": []
   },
   "outputs": [
    {
     "data": {
      "text/plain": [
       "0.8573384901650305"
      ]
     },
     "execution_count": 51,
     "metadata": {},
     "output_type": "execute_result"
    }
   ],
   "source": [
    "lr.score(X_test,Y_test)"
   ]
  },
  {
   "cell_type": "code",
   "execution_count": 52,
   "id": "62c3bfaa",
   "metadata": {
    "execution": {
     "iopub.execute_input": "2023-12-23T06:57:18.992692Z",
     "iopub.status.busy": "2023-12-23T06:57:18.991455Z",
     "iopub.status.idle": "2023-12-23T06:57:19.007655Z",
     "shell.execute_reply": "2023-12-23T06:57:19.006373Z"
    },
    "papermill": {
     "duration": 0.078801,
     "end_time": "2023-12-23T06:57:19.010222",
     "exception": false,
     "start_time": "2023-12-23T06:57:18.931421",
     "status": "completed"
    },
    "tags": []
   },
   "outputs": [
    {
     "data": {
      "text/plain": [
       "0.7237393221894577"
      ]
     },
     "execution_count": 52,
     "metadata": {},
     "output_type": "execute_result"
    }
   ],
   "source": [
    "Dt.score(X_test,Y_test)"
   ]
  },
  {
   "cell_type": "code",
   "execution_count": 53,
   "id": "9fa8b647",
   "metadata": {
    "execution": {
     "iopub.execute_input": "2023-12-23T06:57:19.091134Z",
     "iopub.status.busy": "2023-12-23T06:57:19.090744Z",
     "iopub.status.idle": "2023-12-23T06:57:19.167417Z",
     "shell.execute_reply": "2023-12-23T06:57:19.166191Z"
    },
    "papermill": {
     "duration": 0.119174,
     "end_time": "2023-12-23T06:57:19.169962",
     "exception": false,
     "start_time": "2023-12-23T06:57:19.050788",
     "status": "completed"
    },
    "tags": []
   },
   "outputs": [
    {
     "data": {
      "text/plain": [
       "0.8121403928205089"
      ]
     },
     "execution_count": 53,
     "metadata": {},
     "output_type": "execute_result"
    }
   ],
   "source": [
    "RF.score(X_test,Y_test)"
   ]
  },
  {
   "cell_type": "markdown",
   "id": "8917a12a",
   "metadata": {
    "papermill": {
     "duration": 0.03999,
     "end_time": "2023-12-23T06:57:19.248148",
     "exception": false,
     "start_time": "2023-12-23T06:57:19.208158",
     "status": "completed"
    },
    "tags": []
   },
   "source": [
    "using k fold "
   ]
  },
  {
   "cell_type": "code",
   "execution_count": 54,
   "id": "d385c4c8",
   "metadata": {
    "execution": {
     "iopub.execute_input": "2023-12-23T06:57:19.327819Z",
     "iopub.status.busy": "2023-12-23T06:57:19.326666Z",
     "iopub.status.idle": "2023-12-23T06:58:07.097314Z",
     "shell.execute_reply": "2023-12-23T06:58:07.096366Z"
    },
    "papermill": {
     "duration": 47.813905,
     "end_time": "2023-12-23T06:58:07.100330",
     "exception": false,
     "start_time": "2023-12-23T06:57:19.286425",
     "status": "completed"
    },
    "tags": []
   },
   "outputs": [],
   "source": [
    "from sklearn.model_selection import ShuffleSplit\n",
    "from sklearn.model_selection import cross_val_score\n",
    "\n",
    "cv = ShuffleSplit(n_splits=5, test_size=0.2, random_state=0)\n",
    "\n",
    "linear_r=cross_val_score(LinearRegression(), X, Y, cv=cv)\n",
    "D_T=cross_val_score(DecisionTreeRegressor(), X, Y, cv=cv)\n",
    "R_F=cross_val_score(RandomForestRegressor(), X, Y, cv=cv)"
   ]
  },
  {
   "cell_type": "code",
   "execution_count": 55,
   "id": "0759d70d",
   "metadata": {
    "execution": {
     "iopub.execute_input": "2023-12-23T06:58:07.181448Z",
     "iopub.status.busy": "2023-12-23T06:58:07.181015Z",
     "iopub.status.idle": "2023-12-23T06:58:07.188784Z",
     "shell.execute_reply": "2023-12-23T06:58:07.187541Z"
    },
    "papermill": {
     "duration": 0.052917,
     "end_time": "2023-12-23T06:58:07.192852",
     "exception": false,
     "start_time": "2023-12-23T06:58:07.139935",
     "status": "completed"
    },
    "tags": []
   },
   "outputs": [
    {
     "data": {
      "text/plain": [
       "array([0.84392129, 0.82981495, 0.83594621, 0.85038042, 0.8108817 ])"
      ]
     },
     "execution_count": 55,
     "metadata": {},
     "output_type": "execute_result"
    }
   ],
   "source": [
    "linear_r"
   ]
  },
  {
   "cell_type": "code",
   "execution_count": 56,
   "id": "ccea4d13",
   "metadata": {
    "execution": {
     "iopub.execute_input": "2023-12-23T06:58:07.273021Z",
     "iopub.status.busy": "2023-12-23T06:58:07.272464Z",
     "iopub.status.idle": "2023-12-23T06:58:07.280830Z",
     "shell.execute_reply": "2023-12-23T06:58:07.279745Z"
    },
    "papermill": {
     "duration": 0.051915,
     "end_time": "2023-12-23T06:58:07.283862",
     "exception": false,
     "start_time": "2023-12-23T06:58:07.231947",
     "status": "completed"
    },
    "tags": []
   },
   "outputs": [
    {
     "data": {
      "text/plain": [
       "array([0.54980343, 0.70338865, 0.75484118, 0.77175436, 0.60806945])"
      ]
     },
     "execution_count": 56,
     "metadata": {},
     "output_type": "execute_result"
    }
   ],
   "source": [
    "D_T"
   ]
  },
  {
   "cell_type": "code",
   "execution_count": 57,
   "id": "c6f74d1d",
   "metadata": {
    "execution": {
     "iopub.execute_input": "2023-12-23T06:58:07.365427Z",
     "iopub.status.busy": "2023-12-23T06:58:07.364466Z",
     "iopub.status.idle": "2023-12-23T06:58:07.372411Z",
     "shell.execute_reply": "2023-12-23T06:58:07.371012Z"
    },
    "papermill": {
     "duration": 0.05184,
     "end_time": "2023-12-23T06:58:07.374830",
     "exception": false,
     "start_time": "2023-12-23T06:58:07.322990",
     "status": "completed"
    },
    "tags": []
   },
   "outputs": [
    {
     "data": {
      "text/plain": [
       "array([0.71676672, 0.78371857, 0.83051372, 0.85463952, 0.68603572])"
      ]
     },
     "execution_count": 57,
     "metadata": {},
     "output_type": "execute_result"
    }
   ],
   "source": [
    "R_F"
   ]
  },
  {
   "cell_type": "markdown",
   "id": "3af29b8a",
   "metadata": {
    "papermill": {
     "duration": 0.038797,
     "end_time": "2023-12-23T06:58:07.453674",
     "exception": false,
     "start_time": "2023-12-23T06:58:07.414877",
     "status": "completed"
    },
    "tags": []
   },
   "source": [
    "We can clearly see that for all 5 splits we are getting consistent or better score for linear regression"
   ]
  },
  {
   "cell_type": "code",
   "execution_count": null,
   "id": "765f5251",
   "metadata": {
    "papermill": {
     "duration": 0.039783,
     "end_time": "2023-12-23T06:58:07.533114",
     "exception": false,
     "start_time": "2023-12-23T06:58:07.493331",
     "status": "completed"
    },
    "tags": []
   },
   "outputs": [],
   "source": []
  },
  {
   "cell_type": "markdown",
   "id": "cd63392f",
   "metadata": {
    "papermill": {
     "duration": 0.039024,
     "end_time": "2023-12-23T06:58:07.614891",
     "exception": false,
     "start_time": "2023-12-23T06:58:07.575867",
     "status": "completed"
    },
    "tags": []
   },
   "source": [
    "FINDING BEST MODEL USING GRID SEARCH CV"
   ]
  },
  {
   "cell_type": "code",
   "execution_count": 58,
   "id": "8e60f2cb",
   "metadata": {
    "execution": {
     "iopub.execute_input": "2023-12-23T06:58:07.695522Z",
     "iopub.status.busy": "2023-12-23T06:58:07.695114Z",
     "iopub.status.idle": "2023-12-23T06:58:07.706953Z",
     "shell.execute_reply": "2023-12-23T06:58:07.705632Z"
    },
    "papermill": {
     "duration": 0.05547,
     "end_time": "2023-12-23T06:58:07.709198",
     "exception": false,
     "start_time": "2023-12-23T06:58:07.653728",
     "status": "completed"
    },
    "tags": []
   },
   "outputs": [],
   "source": [
    "from sklearn.model_selection import GridSearchCV\n",
    "from sklearn.ensemble import RandomForestRegressor\n",
    "from sklearn.linear_model import Lasso\n",
    "from sklearn.tree import DecisionTreeRegressor\n",
    "\n",
    "def find_best_model_using_gridsearchcv(X,y):\n",
    "    algos = {\n",
    "        'linear_regression' : {\n",
    "            'model': LinearRegression(),\n",
    "            'params': {}\n",
    "        },\n",
    "        'lasso': {\n",
    "            'model': Lasso(),\n",
    "            'params': {\n",
    "                'alpha': [1,2],\n",
    "                'selection': ['random', 'cyclic']\n",
    "            }\n",
    "        },\n",
    "        'decision_tree': {\n",
    "            'model': DecisionTreeRegressor(),\n",
    "            'params': {\n",
    "                'criterion' : ['mse','friedman_mse'],\n",
    "                'splitter': ['best','random']\n",
    "            }\n",
    "        },\n",
    "        'Random_forest':{\n",
    "            'model':RandomForestRegressor(),\n",
    "            'params':{\n",
    "                'n_estimators': [10, 50, 100, 200],\n",
    "                'max_depth': [None, 5, 10, 20]\n",
    "            }\n",
    "        }\n",
    "    }\n",
    "    scores = []\n",
    "    cv = ShuffleSplit(n_splits=5, test_size=0.2, random_state=0)\n",
    "    for algo_name, config in algos.items():\n",
    "        gs =  GridSearchCV(config['model'], config['params'], cv=cv, return_train_score=False)\n",
    "        gs.fit(X,Y)\n",
    "        scores.append({\n",
    "            'model': algo_name,\n",
    "            'best_score': gs.best_score_,\n",
    "            'best_params': gs.best_params_\n",
    "        })\n",
    "\n",
    "    return pd.DataFrame(scores,columns=['model','best_score','best_params'])\n",
    "\n",
    "#find_best_model_using_gridsearchcv(X,Y)"
   ]
  },
  {
   "cell_type": "markdown",
   "id": "f07cb540",
   "metadata": {
    "papermill": {
     "duration": 0.03941,
     "end_time": "2023-12-23T06:58:07.788225",
     "exception": false,
     "start_time": "2023-12-23T06:58:07.748815",
     "status": "completed"
    },
    "tags": []
   },
   "source": [
    "looking into above table we can see linear regression and random forest did really well"
   ]
  },
  {
   "cell_type": "code",
   "execution_count": 59,
   "id": "2e880f93",
   "metadata": {
    "execution": {
     "iopub.execute_input": "2023-12-23T06:58:07.870564Z",
     "iopub.status.busy": "2023-12-23T06:58:07.869559Z",
     "iopub.status.idle": "2023-12-23T06:58:08.010349Z",
     "shell.execute_reply": "2023-12-23T06:58:08.008848Z"
    },
    "papermill": {
     "duration": 0.186636,
     "end_time": "2023-12-23T06:58:08.014192",
     "exception": false,
     "start_time": "2023-12-23T06:58:07.827556",
     "status": "completed"
    },
    "tags": []
   },
   "outputs": [
    {
     "data": {
      "text/plain": [
       "0.8573384901650305"
      ]
     },
     "execution_count": 59,
     "metadata": {},
     "output_type": "execute_result"
    }
   ],
   "source": [
    "finallr=LinearRegression()\n",
    "finallr.fit(X_train,Y_train)\n",
    "finallr.score(X_test,Y_test)"
   ]
  },
  {
   "cell_type": "code",
   "execution_count": 60,
   "id": "8fe28d60",
   "metadata": {
    "execution": {
     "iopub.execute_input": "2023-12-23T06:58:08.172443Z",
     "iopub.status.busy": "2023-12-23T06:58:08.172002Z",
     "iopub.status.idle": "2023-12-23T06:58:08.182319Z",
     "shell.execute_reply": "2023-12-23T06:58:08.180903Z"
    },
    "papermill": {
     "duration": 0.054444,
     "end_time": "2023-12-23T06:58:08.184825",
     "exception": false,
     "start_time": "2023-12-23T06:58:08.130381",
     "status": "completed"
    },
    "tags": []
   },
   "outputs": [
    {
     "data": {
      "text/plain": [
       "['our_estimator.joblib']"
      ]
     },
     "execution_count": 60,
     "metadata": {},
     "output_type": "execute_result"
    }
   ],
   "source": [
    "import joblib\n",
    "joblib.dump(finallr, 'our_estimator.joblib')"
   ]
  },
  {
   "cell_type": "code",
   "execution_count": 61,
   "id": "f99716a2",
   "metadata": {
    "execution": {
     "iopub.execute_input": "2023-12-23T06:58:08.269039Z",
     "iopub.status.busy": "2023-12-23T06:58:08.268607Z",
     "iopub.status.idle": "2023-12-23T06:58:08.274932Z",
     "shell.execute_reply": "2023-12-23T06:58:08.273899Z"
    },
    "papermill": {
     "duration": 0.05171,
     "end_time": "2023-12-23T06:58:08.277340",
     "exception": false,
     "start_time": "2023-12-23T06:58:08.225630",
     "status": "completed"
    },
    "tags": []
   },
   "outputs": [],
   "source": [
    "model=joblib.load('our_estimator.joblib')"
   ]
  },
  {
   "cell_type": "code",
   "execution_count": null,
   "id": "901e24ea",
   "metadata": {
    "papermill": {
     "duration": 0.039669,
     "end_time": "2023-12-23T06:58:08.357423",
     "exception": false,
     "start_time": "2023-12-23T06:58:08.317754",
     "status": "completed"
    },
    "tags": []
   },
   "outputs": [],
   "source": []
  },
  {
   "cell_type": "code",
   "execution_count": 62,
   "id": "fc611104",
   "metadata": {
    "execution": {
     "iopub.execute_input": "2023-12-23T06:58:08.440035Z",
     "iopub.status.busy": "2023-12-23T06:58:08.438796Z",
     "iopub.status.idle": "2023-12-23T06:58:08.447152Z",
     "shell.execute_reply": "2023-12-23T06:58:08.445989Z"
    },
    "papermill": {
     "duration": 0.052233,
     "end_time": "2023-12-23T06:58:08.449719",
     "exception": false,
     "start_time": "2023-12-23T06:58:08.397486",
     "status": "completed"
    },
    "tags": []
   },
   "outputs": [],
   "source": [
    "def predict_price(area_type,location,sqft,bath,bhk):    \n",
    "    loc_index = np.where(X.columns==location)[0][0]\n",
    "    type_index = np.where(X.columns == area_type)[0][0]\n",
    "    x = np.zeros(len(X.columns))\n",
    "    x[0] = sqft\n",
    "    x[1] = bath\n",
    "    x[2] = bhk\n",
    "    if loc_index >= 0:\n",
    "        x[loc_index] = 1\n",
    "    if type_index >= 0:\n",
    "        x[type_index] = 1\n",
    "    return finallr.predict([x])\n"
   ]
  },
  {
   "cell_type": "code",
   "execution_count": 63,
   "id": "4931ee81",
   "metadata": {
    "execution": {
     "iopub.execute_input": "2023-12-23T06:58:08.532577Z",
     "iopub.status.busy": "2023-12-23T06:58:08.531827Z",
     "iopub.status.idle": "2023-12-23T06:58:08.540014Z",
     "shell.execute_reply": "2023-12-23T06:58:08.538957Z"
    },
    "papermill": {
     "duration": 0.051826,
     "end_time": "2023-12-23T06:58:08.542618",
     "exception": false,
     "start_time": "2023-12-23T06:58:08.490792",
     "status": "completed"
    },
    "tags": []
   },
   "outputs": [
    {
     "data": {
      "text/plain": [
       "Index(['total_sqft', 'bath', 'BHK', 'Built-up  Area', 'Plot  Area',\n",
       "       'Super built-up  Area', ' Devarachikkanahalli', '1st Block Jayanagar',\n",
       "       '1st Block Koramangala', '1st Phase JP Nagar',\n",
       "       ...\n",
       "       'Vijayanagar', 'Vishveshwarya Layout', 'Vishwapriya Layout',\n",
       "       'Vittasandra', 'Whitefield', 'Yelachenahalli', 'Yelahanka',\n",
       "       'Yelahanka New Town', 'Yelenahalli', 'Yeshwanthpur'],\n",
       "      dtype='object', length=259)"
      ]
     },
     "execution_count": 63,
     "metadata": {},
     "output_type": "execute_result"
    }
   ],
   "source": [
    "X.columns"
   ]
  },
  {
   "cell_type": "code",
   "execution_count": 64,
   "id": "afe1c876",
   "metadata": {
    "execution": {
     "iopub.execute_input": "2023-12-23T06:58:08.625944Z",
     "iopub.status.busy": "2023-12-23T06:58:08.625168Z",
     "iopub.status.idle": "2023-12-23T06:58:08.637817Z",
     "shell.execute_reply": "2023-12-23T06:58:08.636832Z"
    },
    "papermill": {
     "duration": 0.056636,
     "end_time": "2023-12-23T06:58:08.640439",
     "exception": false,
     "start_time": "2023-12-23T06:58:08.583803",
     "status": "completed"
    },
    "tags": []
   },
   "outputs": [
    {
     "name": "stderr",
     "output_type": "stream",
     "text": [
      "/opt/conda/lib/python3.10/site-packages/sklearn/base.py:439: UserWarning: X does not have valid feature names, but LinearRegression was fitted with feature names\n",
      "  warnings.warn(\n"
     ]
    },
    {
     "data": {
      "text/plain": [
       "array([184.07550296])"
      ]
     },
     "execution_count": 64,
     "metadata": {},
     "output_type": "execute_result"
    }
   ],
   "source": [
    "predict_price('Built-up  Area','Indira Nagar',1000, 3, 3)"
   ]
  }
 ],
 "metadata": {
  "kaggle": {
   "accelerator": "none",
   "dataSources": [
    {
     "datasetId": 20710,
     "sourceId": 26737,
     "sourceType": "datasetVersion"
    }
   ],
   "dockerImageVersionId": 30626,
   "isGpuEnabled": false,
   "isInternetEnabled": true,
   "language": "python",
   "sourceType": "notebook"
  },
  "kernelspec": {
   "display_name": "Python 3",
   "language": "python",
   "name": "python3"
  },
  "language_info": {
   "codemirror_mode": {
    "name": "ipython",
    "version": 3
   },
   "file_extension": ".py",
   "mimetype": "text/x-python",
   "name": "python",
   "nbconvert_exporter": "python",
   "pygments_lexer": "ipython3",
   "version": "3.10.12"
  },
  "papermill": {
   "default_parameters": {},
   "duration": 74.378923,
   "end_time": "2023-12-23T06:58:09.304998",
   "environment_variables": {},
   "exception": null,
   "input_path": "__notebook__.ipynb",
   "output_path": "__notebook__.ipynb",
   "parameters": {},
   "start_time": "2023-12-23T06:56:54.926075",
   "version": "2.4.0"
  }
 },
 "nbformat": 4,
 "nbformat_minor": 5
}
